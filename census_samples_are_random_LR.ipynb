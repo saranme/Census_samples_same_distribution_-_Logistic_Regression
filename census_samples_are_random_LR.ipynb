{
 "cells": [
  {
   "cell_type": "code",
   "execution_count": 1,
   "metadata": {},
   "outputs": [],
   "source": [
    "# import libraries numpy, pandas, and scipy.stats module\n",
    "import numpy as np\n",
    "import pandas as pd\n",
    "import scipy.stats as stats\n",
    "import seaborn as sns\n",
    "import matplotlib.pyplot as plt\n",
    "%matplotlib inline\n",
    "import warnings\n",
    "warnings.filterwarnings(\"ignore\")\n",
    "from sklearn.model_selection import train_test_split\n",
    "import statsmodels.formula.api as smf\n",
    "import re\n",
    "import itertools\n",
    "from sklearn.metrics import accuracy_score\n",
    "from sklearn.metrics import recall_score\n",
    "from sklearn.metrics import precision_score\n",
    "from sklearn.metrics import f1_score\n",
    "from sklearn.metrics import confusion_matrix"
   ]
  },
  {
   "cell_type": "code",
   "execution_count": 2,
   "metadata": {},
   "outputs": [],
   "source": [
    "def mergeDict(dict1, dict2):\n",
    "   # Merge dictionaries and keep values of common keys in list\n",
    "   dict3 = {**dict1, **dict2}\n",
    "   for key, value in dict3.items():\n",
    "       if key in dict1 and key in dict2:\n",
    "               dict3[key] = [dict1[key] , dict2[key]]\n",
    "   return dict3\n",
    "\n",
    "\n",
    "def plotting_num(df,col):\n",
    "    # describe variable\n",
    "    print(pd.DataFrame(df[col].describe()).T)\n",
    "    print('')\n",
    "    # bowley coefficient\n",
    "    bowley = (df[col].quantile(0.75) - np.median(df[col]) - (np.median(df[col]) - df[col].quantile(0.25))) / (df[col].quantile(0.75) - df[col].quantile(0.25))\n",
    "    if bowley > 0:\n",
    "        comment = \"<Right assimetry>\"\n",
    "    elif bowley < 0:\n",
    "        comment = \"<Left assimetry>\"\n",
    "    else:\n",
    "        comment = \"<Simmetric>\"\n",
    "    print(\"Bowley's Coefficient: \", round(bowley,2), comment)\n",
    "    print('')\n",
    "    ############ print('skew: ',skew(df[col]))  # qué me dice esto?\n",
    "    pearson_coef = np.std(df[col]/np.mean(df[col]))\n",
    "    print(\"Pearson's coefficient of variation: \", round(pearson_coef,2))\n",
    "    # boxplot\n",
    "    df.boxplot(column=col,showmeans=True)\n",
    "    plt.show()\n",
    "    # histogram\n",
    "    plt.hist(df[col],alpha=0.75)\n",
    "    plt.axvline(df[col].median(), color='red', linestyle='dashed', linewidth=1)\n",
    "    plt.axvline(df[col].mean(), color='yellow', linestyle='dashed', linewidth=1)\n",
    "    plt.title(col)\n",
    "    \n",
    "def plotting_cat(df, col):\n",
    "    # Plot cualitative variables\n",
    "    # relative frequencies of each variable\n",
    "    frec_abs = round(df[col].value_counts(normalize=True, ascending=True),2)\n",
    "    # remember: can also be done:\n",
    "    ## tab = pd.crosstab(index= df['workclass'], columns='name you want to give')\n",
    "    ## round(tab/tab.sum(),4)\n",
    "    frec_abs = frec_abs[frec_abs > 0.00]\n",
    "    \n",
    "    # convert to dataframe and plot absolute frequencies\n",
    "    ax = frec_abs.T.plot(kind='barh',alpha=0.75)\n",
    "    ax.bar_label(ax.containers[0])\n",
    "    plt.axvline(0.025, color='cyan', linestyle='dashed', linewidth=1)\n",
    "    plt.title(col)\n",
    "    plt.ylabel('Percentage')\n",
    "    plt.xlim([0,1])\n",
    "    plt.show()\n",
    "\n",
    "def boxplot_customization(ax):\n",
    "    for i,artist in enumerate(ax.artists):\n",
    "        # Set the linecolor on the artist to the facecolor, and set the facecolor to None\n",
    "        col = artist.get_facecolor()\n",
    "        artist.set_edgecolor(col)\n",
    "        artist.set_facecolor('None')\n",
    "\n",
    "        # Each box has 6 associated Line2D objects (to make the whiskers, fliers, etc.)\n",
    "        # Loop over them here, and use the same colour as above\n",
    "        for j in range(i*6,i*6+6):\n",
    "            line = ax.lines[j]\n",
    "            line.set_color(col)\n",
    "            line.set_mfc(col)\n",
    "            line.set_mec(col)\n",
    "\n",
    "    # Also fix the legend\n",
    "    for legpatch in ax.get_legend().get_patches():\n",
    "        col = legpatch.get_facecolor()\n",
    "        legpatch.set_edgecolor(col)\n",
    "        legpatch.set_facecolor('None')\n",
    "        \n",
    "def dfs_in_one_boxplot(*args):\n",
    "    # plot boxplots census train and test next to each other\n",
    "    df_list = []\n",
    "    start_names_df = len(args)//2\n",
    "    for index,df in enumerate(args[0: start_names_df]):\n",
    "        df = pd.DataFrame(df)\n",
    "        df.drop('greater_than_50k', axis=1, inplace=True)\n",
    "        data = df[df.describe().columns].assign(datasets=args[start_names_df + index])\n",
    "        df_list.append(data)\n",
    "    cdf = pd.concat(df_list)    \n",
    "    mdf =pd.melt(cdf, id_vars=['datasets'], var_name=['Letter'])\n",
    "    \n",
    "    fig, ax = plt.subplots(figsize=(16,9))\n",
    "    sns.boxplot(x=\"Letter\", y=\"value\", hue=\"datasets\", data=mdf, showmeans=True, showfliers=False,linewidth=0.75).set_title('Distribution of quantitative variables')\n",
    "    boxplot_customization(ax)\n",
    "    plt.xlabel('')\n",
    "    plt.ylabel('valores')\n",
    "\n",
    "def plot_hist(col):\n",
    "    # plot census train and census test histograms\n",
    "    plt.hist(df_train[col],alpha=0.5, label = 'census train')\n",
    "    plt.hist(df_test[col],alpha=0.5, label = 'census test')\n",
    "    plt.title(f'Histogram for {col}')\n",
    "    plt.legend()\n",
    "    \n",
    "def tabla_contingencia_frec_rel_con(df,col):\n",
    "    # Exploratory analysis for qualitative data\n",
    "    # Relative frequencies \n",
    "    frec_abs = round(df[col].value_counts(normalize=True, ascending=True),2)\n",
    "    frec_abs = frec_abs[frec_abs > 0.025].index\n",
    "    \n",
    "    df = df[df[col].isin(frec_abs)]\n",
    "    \n",
    "    tab = pd.crosstab(index= df['greater_than_50k'], columns=df[col],margins=True)\n",
    "    col_labels = tab.columns.to_list()\n",
    "    col_labels[-1] = 'total_earns'\n",
    "    \n",
    "    tab.index = ['<50k','>50k',f'total_{col}']\n",
    "    tab.columns = col_labels\n",
    "    \n",
    "    frec_tab = tab/tab.loc[f'total_{col}','total_earns']\n",
    "    \n",
    "    # ordering columns in education (nominal ordinal)\n",
    "    if col == 'education':\n",
    "        frec_tab = frec_tab[['10th', '11th','HS-grad','Assoc-acdm', 'Assoc-voc','Some-college','Bachelors','Masters','total_earns']]\n",
    "    \n",
    "    display(round(frec_tab,2) * 100)\n",
    "    \n",
    "    # ordering columns in education (nominal ordinal)\n",
    "    frec_tab_mar = tab/tab.loc[f'total_{col}']\n",
    "    if col == 'education':\n",
    "        frec_tab_mar = frec_tab_mar[['10th', '11th','HS-grad','Assoc-acdm', 'Assoc-voc','Some-college','Bachelors','Masters','total_earns']]\n",
    "    display(round(frec_tab_mar,2) * 100)\n",
    "    \n",
    "def cat_dataframe(df):\n",
    "    # return a dataframe with only categorical variables and target variable\n",
    "    cat = df.select_dtypes(include=['object'])\n",
    "    cat['greater_than_50k'] = df['greater_than_50k']\n",
    "    return cat\n",
    "\n",
    "def create_frec_tab(df,col):\n",
    "    # create frequencies dataframe for a variable\n",
    "    return round(df[col].value_counts(normalize=True, ascending=True),2)\n",
    "\n",
    "def frec_plot_for_var(df_train, df_test,col):\n",
    "    # create frequencies plot for a variable\n",
    "    d_train = create_frec_tab(df_train,col).to_dict()\n",
    "    d_test = create_frec_tab(df_test,col).to_dict()\n",
    "    \n",
    "    # merge dictionaries\n",
    "    merge_d = {**d_train, **d_test}\n",
    "    #mergeDict(d_train, d_test,d)\n",
    "    merge_d = {k:v for k,v in merge_d.items() if v != 0.0}\n",
    "\n",
    "    # convert to dataframe and plot absolute frequencies\n",
    "    ax = pd.DataFrame(merge_d, index = ['census_train','census_test']).T.plot(kind='barh',alpha=0.75)\n",
    "    ax.bar_label(ax.containers[0])\n",
    "    plt.axvline(0.025, color='cyan', linestyle='dashed', linewidth=1)\n",
    "    plt.title(col)\n",
    "    plt.ylabel('Percentage')\n",
    "    plt.show()\n",
    "\n",
    "def bootstrapping(df, df2, col):\n",
    "    # bootstrapping to calculate if dataframes are from the same sample.\n",
    "    boot_means = []\n",
    "    for _ in range(10000):\n",
    "        boot_sample = np.random.choice(df[col],replace=True, size=1000) # take a random sample each iteration\n",
    "        boot_mean = np.mean(boot_sample) # calculate the mean for each iteration\n",
    "        boot_means.append(boot_mean) # append the mean to boot_means\n",
    "    boot_means_np = np.array(boot_means) # transform it into a numpy array for calculation\n",
    "    p_value = (sum(boot_means_np > np.mean(df2[col]))/len(boot_means))\n",
    "    return p_value\n",
    "\n",
    "def range_df(df):\n",
    "    # checking the range in our quantitative variables for census_train and census_test.\n",
    "    return df[df.describe().columns].max()-df[df.describe().columns].min()\n",
    "\n",
    "def unique_values_less25per(df):\n",
    "    # returns a dictionary with all the values that appear <0.025\n",
    "    min_values_quantity_d = {}\n",
    "    for col in df.columns:\n",
    "        if col != 'greater_than_50k':\n",
    "            frec_abs = round(df[col].value_counts(normalize=True, ascending=True),2)\n",
    "            frec_abs = frec_abs[frec_abs <= 0.025].index\n",
    "            min_values_quantity_d[col] = frec_abs.tolist()\n",
    "    return min_values_quantity_d\n",
    "\n",
    "def unique_values_less25per_df(df):\n",
    "    # returns a df with values <0.025 grouped\n",
    "    d_unique_values_less25perc = unique_values_less25per(df)\n",
    "    for col in d_unique_values_less25perc.keys():\n",
    "        d_unique_values_less25perc_col = d_unique_values_less25perc[col]\n",
    "        df[col].replace(d_unique_values_less25perc_col,'other_'+ col, inplace=True)\n",
    "    return df\n",
    "\n",
    "def find_rsquared(model):\n",
    "    # find r squared in model.summary()\n",
    "    model_sum = str(model.summary())\n",
    "    start = model_sum.find('Pseudo R-squ.')\n",
    "    end = model_sum[start:].find('\\nTime')\n",
    "    rsquared = model_sum[start:start+end]\n",
    "    match_number = re.compile('-?\\ *[0-9]+\\.?[0-9]*(?:[Ee]\\ *-?\\ *[0-9]+)?')\n",
    "    final_list = [float(x) for x in re.findall(match_number, rsquared)]\n",
    "    #rsquared = float(re.findall(\"\\d+\\.\\d+\", rsquared)[0])\n",
    "    return final_list[0]\n",
    "\n",
    "def find_combinations(S):\n",
    "    result = []\n",
    "    for i in range(len(S)+1):\n",
    "      for c in itertools.combinations(S, i):\n",
    "        if len(c)>0:\n",
    "            result.append(c)\n",
    "    return result\n",
    "\n",
    "def find_r(df):\n",
    "    warnings.filterwarnings(\"ignore\")\n",
    "    # find best r with all possible combinations\n",
    "    combs = find_combinations(df.columns[:-1])\n",
    "    d_combs = []\n",
    "    for comb in combs:\n",
    "        form = 'greater_than_50k ~ '\n",
    "        for col in comb:\n",
    "            if col == comb[0]:\n",
    "                form = form + f'C({col})'\n",
    "            else:\n",
    "                form = form + f' + C({col})'\n",
    "        try:\n",
    "            model = smf.logit(formula= form , data = df).fit(disp=False)\n",
    "            r = find_rsquared(model)\n",
    "            d_combs.append([form, r])\n",
    "        except:\n",
    "            pass\n",
    "    return d_combs\n",
    "\n",
    "def count_vars(form):\n",
    "    words = []\n",
    "    for word in X_train.columns:\n",
    "        if (form.find(word) != -1):\n",
    "            words.append(word)\n",
    "    return len(words)\n",
    "\n",
    "def metrics(form):\n",
    "    model = smf.logit(formula= form , data = train_data).fit(disp = False)\n",
    "    prob_y_pred = model.predict(X_test)\n",
    "    y_pred = (prob_y_pred.copy()>0.5)*1\n",
    "    acc = accuracy_score(y_test, y_pred)\n",
    "    recall = recall_score(y_test,y_pred)\n",
    "    precision = precision_score(y_test,y_pred)\n",
    "    f1 = f1_score(y_test,y_pred)\n",
    "\n",
    "    d = {'accuracy': round(acc,3), 'recall': round(recall,3), 'precision': round(precision,3), 'f1_score': round(f1,3)}\n",
    "    return pd.DataFrame(d.items(),columns=['metric','value']).set_index('metric')\n",
    "\n",
    "def plot_confussion_matrix(y_test,y_pred):\n",
    "    from sklearn.metrics import confusion_matrix\n",
    "    cm = confusion_matrix(y_test, y_pred)\n",
    "\n",
    "    ax = sns.heatmap(cm, annot=True, fmt='g', cmap='Blues')\n",
    "    ax.set_title('Confusion Matrix');\n",
    "    ax.set_xlabel('Predicted values')\n",
    "    ax.set_ylabel('Actual values');\n",
    "    ax.xaxis.set_ticklabels(['<=50k', '>50k'])\n",
    "    ax.yaxis.set_ticklabels(['<=50k', '>50k'])\n",
    "\n",
    "def plot_confusion_metrics(form, y_test, y_pred):\n",
    "    df = metrics(form)\n",
    "\n",
    "    fig = plt.figure(figsize=(15,5))\n",
    "\n",
    "    ax1 = fig.add_subplot(121)\n",
    "    ax1 = plot_confussion_matrix(y_test,y_pred)\n",
    "\n",
    "    ax2 = fig.add_subplot(122)\n",
    "    font_size=13\n",
    "    bbox=[0, 0, 1, 1]\n",
    "    ax2.axis('off')\n",
    "    mpl_table = ax2.table(cellText = df.values, rowLabels = df.index, bbox=bbox, colLabels=df.columns)\n",
    "    mpl_table.auto_set_font_size(False)\n",
    "    mpl_table.set_fontsize(font_size)"
   ]
  },
  {
   "cell_type": "code",
   "execution_count": 3,
   "metadata": {},
   "outputs": [],
   "source": [
    "df_train = pd.read_csv('census_v2.csv')\n",
    "df_test = pd.read_csv('census_test_v2.csv')\n",
    "df = pd.concat([df_train, df_test],sort=False)\n",
    "\n",
    "# categoricals df\n",
    "cat_train = cat_dataframe(df_train)\n",
    "cat_test = cat_dataframe(df_test)\n",
    "cat = cat_dataframe(df)\n",
    "\n",
    "# numericals df\n",
    "num = df.select_dtypes(include=np.number)\n",
    "num_no_target = num.loc[:, num.columns != 'greater_than_50k']"
   ]
  },
  {
   "cell_type": "markdown",
   "metadata": {},
   "source": [
    "# <font color='#464646'>Definition of Variables</font>\n",
    "\n",
    "### <font color='#7e7e7e'>Quantitative variables:</font>\n",
    "\n",
    "**age:** The age of an individual.\n",
    "\n",
    "**educaction_num:** the ID of each education level (variable \"education\").\n",
    "\n",
    "**hours_per_week:** the working hours of each individual.\n",
    "\n",
    "### <font color='#7e7e7e'>Variables Cualitativas:</font>\n",
    "\n",
    "**education:** The levels of education that an individual can have.\n",
    "\n",
    "**occupation:** The type of work of each individual.\n",
    "\n",
    "**relationship:**  Represents the relationship status of an individual with another.\n",
    "\n",
    "**marital_status:** The marital status that each individual can have.\n",
    "\n",
    "**gender:** The gender of the individual.\n",
    "\n",
    "**race:** Groups into which individuals are subdivided.\n",
    "\n",
    "**workclass:** Representation of the work status that an individual may have.\n",
    "\n",
    "**native_country:**  The individual's country of origin.\n",
    "\n",
    "**greater_than_50k:** Whether an individual earns more than 50k a year or not. "
   ]
  },
  {
   "cell_type": "markdown",
   "metadata": {},
   "source": [
    "# <font color='#464646'>Are the samples random?\n",
    "</font>\n",
    "\n",
    "# <font color='#464646'>Does the relative frequencies of the unique values of each variable exceed the 2.5% needed to analyze the data?</font>"
   ]
  },
  {
   "cell_type": "markdown",
   "metadata": {},
   "source": [
    "### <font color='#7e7e7e'>1. Bootstrapping method\n",
    "<font color='#7e7e7e'>We are going to compare if the numerical variables of the samples come from the same distribution</font>"
   ]
  },
  {
   "cell_type": "code",
   "execution_count": 4,
   "metadata": {},
   "outputs": [
    {
     "name": "stdout",
     "output_type": "stream",
     "text": [
      "According to age, we do not reject H0 (the samples are from the same distribution). Pvalue is  0.340.\n",
      "\n",
      "According to education_num, we do not reject H0 (the samples are from the same distribution). Pvalue is  0.540.\n",
      "\n",
      "According to hours_per_week, we do not reject H0 (the samples are from the same distribution). Pvalue is  0.550.\n",
      "\n",
      "According to greater_than_50k, we do not reject H0 (the samples are from the same distribution). Pvalue is  0.620.\n",
      "\n"
     ]
    }
   ],
   "source": [
    "d_same_distribution = {}\n",
    "num = df.select_dtypes(include=np.number)\n",
    "for col in num.columns:\n",
    "    p_value = bootstrapping(df_train, df_test, col)\n",
    "    d_same_distribution[col] = p_value\n",
    "    # H0: the samples are from the same distribution.   \n",
    "    if d_same_distribution[col] < 0.05:\n",
    "        # reject H0\n",
    "        print('According to %s, we reject H0 (samples are NOT from the same distribution). Pvalue is %.3f.' % (col,round(p_value,2)))\n",
    "    else:\n",
    "        # fail to reject H0\n",
    "        print('According to %s, we do not reject H0 (the samples are from the same distribution). Pvalue is % .3f.' % (col,round(p_value,2)))\n",
    "    print('')"
   ]
  },
  {
   "cell_type": "markdown",
   "metadata": {},
   "source": [
    "### <font color='#7e7e7e'>2. Boxplots and Histograms\n",
    "<font color='#7e7e7e'>We check if the distribution of the numerical data is similar in both samples.</font>"
   ]
  },
  {
   "cell_type": "code",
   "execution_count": 5,
   "metadata": {},
   "outputs": [
    {
     "data": {
      "image/png": "[encoded data removed]",
      "text/plain": [
       "<Figure size 1152x648 with 1 Axes>"
      ]
     },
     "metadata": {
      "needs_background": "light"
     },
     "output_type": "display_data"
    }
   ],
   "source": [
    "dfs_in_one_boxplot(df_train, df_test,'census_train','census_test')"
   ]
  },
  {
   "cell_type": "code",
   "execution_count": 6,
   "metadata": {},
   "outputs": [
    {
     "data": {
      "image/png": "[encoded data removed]",
      "text/plain": [
       "<Figure size 1440x360 with 3 Axes>"
      ]
     },
     "metadata": {
      "needs_background": "light"
     },
     "output_type": "display_data"
    }
   ],
   "source": [
    "fig, ax = plt.subplots(1, 3, sharex='col', sharey='row',figsize=(20,5))\n",
    "for index,col in enumerate(num_no_target.columns):\n",
    "    plt.subplot(1,3,index+1)\n",
    "    plot_hist(col)"
   ]
  },
  {
   "cell_type": "markdown",
   "metadata": {},
   "source": [
    "### <font color='#7e7e7e'>3. Relative frequency graphs\n",
    "<font color='#7e7e7e'>We check if the frequencies of the categorical data are similar in both samples.</font>"
   ]
  },
  {
   "cell_type": "code",
   "execution_count": 7,
   "metadata": {
    "scrolled": false
   },
   "outputs": [
    {
     "data": {
      "image/png": "[encoded data removed]",
      "text/plain": [
       "<Figure size 432x288 with 1 Axes>"
      ]
     },
     "metadata": {
      "needs_background": "light"
     },
     "output_type": "display_data"
    },
    {
     "data": {
      "image/png": "[encoded data removed]",
      "text/plain": [
       "<Figure size 432x288 with 1 Axes>"
      ]
     },
     "metadata": {
      "needs_background": "light"
     },
     "output_type": "display_data"
    },
    {
     "data": {
      "image/png": "[encoded data removed]",
      "text/plain": [
       "<Figure size 432x288 with 1 Axes>"
      ]
     },
     "metadata": {
      "needs_background": "light"
     },
     "output_type": "display_data"
    },
    {
     "data": {
      "image/png": "[encoded data removed]",
      "text/plain": [
       "<Figure size 432x288 with 1 Axes>"
      ]
     },
     "metadata": {
      "needs_background": "light"
     },
     "output_type": "display_data"
    },
    {
     "data": {
      "image/png": "[encoded data removed]",
      "text/plain": [
       "<Figure size 432x288 with 1 Axes>"
      ]
     },
     "metadata": {
      "needs_background": "light"
     },
     "output_type": "display_data"
    },
    {
     "data": {
      "image/png": "[encoded data removed]",
      "text/plain": [
       "<Figure size 432x288 with 1 Axes>"
      ]
     },
     "metadata": {
      "needs_background": "light"
     },
     "output_type": "display_data"
    },
    {
     "data": {
      "image/png": "[encoded data removed]",
      "text/plain": [
       "<Figure size 432x288 with 1 Axes>"
      ]
     },
     "metadata": {
      "needs_background": "light"
     },
     "output_type": "display_data"
    },
    {
     "data": {
      "image/png": "[encoded data removed]",
      "text/plain": [
       "<Figure size 432x288 with 1 Axes>"
      ]
     },
     "metadata": {
      "needs_background": "light"
     },
     "output_type": "display_data"
    },
    {
     "data": {
      "image/png": "[encoded data removed]",
      "text/plain": [
       "<Figure size 432x288 with 1 Axes>"
      ]
     },
     "metadata": {
      "needs_background": "light"
     },
     "output_type": "display_data"
    }
   ],
   "source": [
    "for col in cat.columns:\n",
    "    frec_plot_for_var(cat_train, cat_test, col)"
   ]
  },
  {
   "cell_type": "markdown",
   "metadata": {},
   "source": [
    "### <font color='#7e7e7e'>4. Dispersion and position measurements</font>"
   ]
  },
  {
   "cell_type": "markdown",
   "metadata": {},
   "source": [
    "<font color='#7e7e7e'>Difference between the measurements of both samples</font>"
   ]
  },
  {
   "cell_type": "code",
   "execution_count": 8,
   "metadata": {},
   "outputs": [
    {
     "data": {
      "text/html": [
       "<div>\n",
       "<style scoped>\n",
       "    .dataframe tbody tr th:only-of-type {\n",
       "        vertical-align: middle;\n",
       "    }\n",
       "\n",
       "    .dataframe tbody tr th {\n",
       "        vertical-align: top;\n",
       "    }\n",
       "\n",
       "    .dataframe thead th {\n",
       "        text-align: right;\n",
       "    }\n",
       "</style>\n",
       "<table border=\"1\" class=\"dataframe\">\n",
       "  <thead>\n",
       "    <tr style=\"text-align: right;\">\n",
       "      <th></th>\n",
       "      <th>age</th>\n",
       "      <th>education_num</th>\n",
       "      <th>hours_per_week</th>\n",
       "      <th>greater_than_50k</th>\n",
       "    </tr>\n",
       "  </thead>\n",
       "  <tbody>\n",
       "    <tr>\n",
       "      <th>mean</th>\n",
       "      <td>-0.19</td>\n",
       "      <td>0.01</td>\n",
       "      <td>0.05</td>\n",
       "      <td>0.0</td>\n",
       "    </tr>\n",
       "    <tr>\n",
       "      <th>std</th>\n",
       "      <td>-0.21</td>\n",
       "      <td>0.01</td>\n",
       "      <td>-0.13</td>\n",
       "      <td>0.0</td>\n",
       "    </tr>\n",
       "    <tr>\n",
       "      <th>min</th>\n",
       "      <td>0.00</td>\n",
       "      <td>0.00</td>\n",
       "      <td>0.00</td>\n",
       "      <td>0.0</td>\n",
       "    </tr>\n",
       "    <tr>\n",
       "      <th>25%</th>\n",
       "      <td>0.00</td>\n",
       "      <td>0.00</td>\n",
       "      <td>0.00</td>\n",
       "      <td>0.0</td>\n",
       "    </tr>\n",
       "    <tr>\n",
       "      <th>50%</th>\n",
       "      <td>0.00</td>\n",
       "      <td>0.00</td>\n",
       "      <td>0.00</td>\n",
       "      <td>0.0</td>\n",
       "    </tr>\n",
       "    <tr>\n",
       "      <th>75%</th>\n",
       "      <td>0.00</td>\n",
       "      <td>0.00</td>\n",
       "      <td>0.00</td>\n",
       "      <td>0.0</td>\n",
       "    </tr>\n",
       "    <tr>\n",
       "      <th>max</th>\n",
       "      <td>0.00</td>\n",
       "      <td>0.00</td>\n",
       "      <td>0.00</td>\n",
       "      <td>0.0</td>\n",
       "    </tr>\n",
       "  </tbody>\n",
       "</table>\n",
       "</div>"
      ],
      "text/plain": [
       "       age  education_num  hours_per_week  greater_than_50k\n",
       "mean -0.19           0.01            0.05               0.0\n",
       "std  -0.21           0.01           -0.13               0.0\n",
       "min   0.00           0.00            0.00               0.0\n",
       "25%   0.00           0.00            0.00               0.0\n",
       "50%   0.00           0.00            0.00               0.0\n",
       "75%   0.00           0.00            0.00               0.0\n",
       "max   0.00           0.00            0.00               0.0"
      ]
     },
     "execution_count": 8,
     "metadata": {},
     "output_type": "execute_result"
    }
   ],
   "source": [
    "round(df_train.describe()[1:].T - df_test.describe()[1:].T,2).T"
   ]
  },
  {
   "cell_type": "markdown",
   "metadata": {},
   "source": [
    "<font color='#7e7e7e'>Ranges of the quantitative variables for both samples.</font>"
   ]
  },
  {
   "cell_type": "code",
   "execution_count": 9,
   "metadata": {},
   "outputs": [
    {
     "data": {
      "text/html": [
       "<div>\n",
       "<style scoped>\n",
       "    .dataframe tbody tr th:only-of-type {\n",
       "        vertical-align: middle;\n",
       "    }\n",
       "\n",
       "    .dataframe tbody tr th {\n",
       "        vertical-align: top;\n",
       "    }\n",
       "\n",
       "    .dataframe thead th {\n",
       "        text-align: right;\n",
       "    }\n",
       "</style>\n",
       "<table border=\"1\" class=\"dataframe\">\n",
       "  <thead>\n",
       "    <tr style=\"text-align: right;\">\n",
       "      <th></th>\n",
       "      <th>age</th>\n",
       "      <th>education_num</th>\n",
       "      <th>hours_per_week</th>\n",
       "    </tr>\n",
       "  </thead>\n",
       "  <tbody>\n",
       "    <tr>\n",
       "      <th>census_train</th>\n",
       "      <td>73</td>\n",
       "      <td>15</td>\n",
       "      <td>98</td>\n",
       "    </tr>\n",
       "    <tr>\n",
       "      <th>census_test</th>\n",
       "      <td>73</td>\n",
       "      <td>15</td>\n",
       "      <td>98</td>\n",
       "    </tr>\n",
       "  </tbody>\n",
       "</table>\n",
       "</div>"
      ],
      "text/plain": [
       "              age  education_num  hours_per_week\n",
       "census_train   73             15              98\n",
       "census_test    73             15              98"
      ]
     },
     "execution_count": 9,
     "metadata": {},
     "output_type": "execute_result"
    }
   ],
   "source": [
    "range_train = range_df(df_train).to_dict()\n",
    "range_test = range_df(df_test).to_dict()\n",
    "pd.DataFrame([range_train,range_test], index=['census_train','census_test']).iloc[:,:-1]"
   ]
  },
  {
   "cell_type": "markdown",
   "metadata": {},
   "source": [
    "<font color='#7e7e7e'>Pearson's coefficient of variation</font>"
   ]
  },
  {
   "cell_type": "code",
   "execution_count": 10,
   "metadata": {},
   "outputs": [
    {
     "data": {
      "text/html": [
       "<div>\n",
       "<style scoped>\n",
       "    .dataframe tbody tr th:only-of-type {\n",
       "        vertical-align: middle;\n",
       "    }\n",
       "\n",
       "    .dataframe tbody tr th {\n",
       "        vertical-align: top;\n",
       "    }\n",
       "\n",
       "    .dataframe thead th {\n",
       "        text-align: right;\n",
       "    }\n",
       "</style>\n",
       "<table border=\"1\" class=\"dataframe\">\n",
       "  <thead>\n",
       "    <tr style=\"text-align: right;\">\n",
       "      <th></th>\n",
       "      <th>age</th>\n",
       "      <th>education_num</th>\n",
       "      <th>hours_per_week</th>\n",
       "    </tr>\n",
       "  </thead>\n",
       "  <tbody>\n",
       "    <tr>\n",
       "      <th>census_train</th>\n",
       "      <td>0.35</td>\n",
       "      <td>0.26</td>\n",
       "      <td>0.31</td>\n",
       "    </tr>\n",
       "    <tr>\n",
       "      <th>census_test</th>\n",
       "      <td>0.36</td>\n",
       "      <td>0.25</td>\n",
       "      <td>0.31</td>\n",
       "    </tr>\n",
       "  </tbody>\n",
       "</table>\n",
       "</div>"
      ],
      "text/plain": [
       "               age  education_num  hours_per_week\n",
       "census_train  0.35           0.26            0.31\n",
       "census_test   0.36           0.25            0.31"
      ]
     },
     "execution_count": 10,
     "metadata": {},
     "output_type": "execute_result"
    }
   ],
   "source": [
    "d_pearson = {}\n",
    "for col in num.columns:\n",
    "    var_train = round(stats.variation(df_train[col]),2)\n",
    "    var_test = round(stats.variation(df_test[col]),2)\n",
    "    d_pearson[col] = [var_train,var_test]\n",
    "pd.DataFrame(d_pearson, index=['census_train','census_test']).iloc[:,:-1]"
   ]
  },
  {
   "cell_type": "markdown",
   "metadata": {},
   "source": [
    "So far we have not seen significant differences between the two samples."
   ]
  },
  {
   "cell_type": "markdown",
   "metadata": {},
   "source": [
    "### <font color='#7e7e7e'>6. Skewness and kurtosis</font>"
   ]
  },
  {
   "cell_type": "code",
   "execution_count": 11,
   "metadata": {},
   "outputs": [
    {
     "name": "stdout",
     "output_type": "stream",
     "text": [
      "age\n"
     ]
    },
    {
     "data": {
      "text/html": [
       "<div>\n",
       "<style scoped>\n",
       "    .dataframe tbody tr th:only-of-type {\n",
       "        vertical-align: middle;\n",
       "    }\n",
       "\n",
       "    .dataframe tbody tr th {\n",
       "        vertical-align: top;\n",
       "    }\n",
       "\n",
       "    .dataframe thead th {\n",
       "        text-align: right;\n",
       "    }\n",
       "</style>\n",
       "<table border=\"1\" class=\"dataframe\">\n",
       "  <thead>\n",
       "    <tr style=\"text-align: right;\">\n",
       "      <th></th>\n",
       "      <th>census train</th>\n",
       "      <th>census test</th>\n",
       "    </tr>\n",
       "  </thead>\n",
       "  <tbody>\n",
       "    <tr>\n",
       "      <th>skew</th>\n",
       "      <td>0.56</td>\n",
       "      <td>0.55</td>\n",
       "    </tr>\n",
       "    <tr>\n",
       "      <th>curtosis</th>\n",
       "      <td>-0.17</td>\n",
       "      <td>-0.22</td>\n",
       "    </tr>\n",
       "  </tbody>\n",
       "</table>\n",
       "</div>"
      ],
      "text/plain": [
       "          census train  census test\n",
       "skew              0.56         0.55\n",
       "curtosis         -0.17        -0.22"
      ]
     },
     "metadata": {},
     "output_type": "display_data"
    },
    {
     "name": "stdout",
     "output_type": "stream",
     "text": [
      "The asymmetry is almost symmetrical although it has a straight tail.\n",
      "The distribution is almost mesocúrtic although it is slightly platicúrtic.\n",
      "\n",
      "education_num\n"
     ]
    },
    {
     "data": {
      "text/html": [
       "<div>\n",
       "<style scoped>\n",
       "    .dataframe tbody tr th:only-of-type {\n",
       "        vertical-align: middle;\n",
       "    }\n",
       "\n",
       "    .dataframe tbody tr th {\n",
       "        vertical-align: top;\n",
       "    }\n",
       "\n",
       "    .dataframe thead th {\n",
       "        text-align: right;\n",
       "    }\n",
       "</style>\n",
       "<table border=\"1\" class=\"dataframe\">\n",
       "  <thead>\n",
       "    <tr style=\"text-align: right;\">\n",
       "      <th></th>\n",
       "      <th>census train</th>\n",
       "      <th>census test</th>\n",
       "    </tr>\n",
       "  </thead>\n",
       "  <tbody>\n",
       "    <tr>\n",
       "      <th>skew</th>\n",
       "      <td>-0.31</td>\n",
       "      <td>-0.33</td>\n",
       "    </tr>\n",
       "    <tr>\n",
       "      <th>curtosis</th>\n",
       "      <td>0.62</td>\n",
       "      <td>0.63</td>\n",
       "    </tr>\n",
       "  </tbody>\n",
       "</table>\n",
       "</div>"
      ],
      "text/plain": [
       "          census train  census test\n",
       "skew             -0.31        -0.33\n",
       "curtosis          0.62         0.63"
      ]
     },
     "metadata": {},
     "output_type": "display_data"
    },
    {
     "name": "stdout",
     "output_type": "stream",
     "text": [
      "The asymmetry is almost symmetrical although it has a left tail.\n",
      "The distribution is almost mesocúrtic although it is slightly leptokurtic.\n",
      "\n",
      "hours_per_week\n"
     ]
    },
    {
     "data": {
      "text/html": [
       "<div>\n",
       "<style scoped>\n",
       "    .dataframe tbody tr th:only-of-type {\n",
       "        vertical-align: middle;\n",
       "    }\n",
       "\n",
       "    .dataframe tbody tr th {\n",
       "        vertical-align: top;\n",
       "    }\n",
       "\n",
       "    .dataframe thead th {\n",
       "        text-align: right;\n",
       "    }\n",
       "</style>\n",
       "<table border=\"1\" class=\"dataframe\">\n",
       "  <thead>\n",
       "    <tr style=\"text-align: right;\">\n",
       "      <th></th>\n",
       "      <th>census train</th>\n",
       "      <th>census test</th>\n",
       "    </tr>\n",
       "  </thead>\n",
       "  <tbody>\n",
       "    <tr>\n",
       "      <th>skew</th>\n",
       "      <td>0.23</td>\n",
       "      <td>0.26</td>\n",
       "    </tr>\n",
       "    <tr>\n",
       "      <th>curtosis</th>\n",
       "      <td>2.92</td>\n",
       "      <td>3.02</td>\n",
       "    </tr>\n",
       "  </tbody>\n",
       "</table>\n",
       "</div>"
      ],
      "text/plain": [
       "          census train  census test\n",
       "skew              0.23         0.26\n",
       "curtosis          2.92         3.02"
      ]
     },
     "metadata": {},
     "output_type": "display_data"
    },
    {
     "name": "stdout",
     "output_type": "stream",
     "text": [
      "The asymmetry is almost symmetrical although it has a right tail.\n",
      "The distribution is leptocurtica.\n",
      "\n"
     ]
    }
   ],
   "source": [
    "for col in num.columns:\n",
    "    if col != 'greater_than_50k':\n",
    "        d_sym = {'census train': [], 'census test': []}\n",
    "        skew_train = round(stats.skew(df_train[col]),2)\n",
    "        skew_test = round(stats.skew(df_test[col]),2)\n",
    "\n",
    "        curtosis_train = round(stats.kurtosis(df_train[col]),2)\n",
    "        curtosis_test = round(stats.kurtosis(df_test[col]),2)\n",
    "\n",
    "        d_sym['census train'] = [skew_train,curtosis_train]\n",
    "\n",
    "        d_sym['census test'] = [skew_test,curtosis_test]\n",
    "\n",
    "        print(col)\n",
    "        display(pd.DataFrame(d_sym, index = ['skew','curtosis']))\n",
    "        if col == 'age':\n",
    "            print('The asymmetry is almost symmetrical although it has a straight tail.')\n",
    "            print('The distribution is almost mesocúrtic although it is slightly platicúrtic.')\n",
    "        elif col == 'education_num':\n",
    "            print('The asymmetry is almost symmetrical although it has a left tail.')\n",
    "            print('The distribution is almost mesocúrtic although it is slightly leptokurtic.')\n",
    "        else:\n",
    "            print('The asymmetry is almost symmetrical although it has a right tail.')\n",
    "            print('The distribution is leptocurtica.')\n",
    "        print('')"
   ]
  },
  {
   "cell_type": "markdown",
   "metadata": {},
   "source": [
    "Bias and kurtosis have similar values for each variable in both samples."
   ]
  },
  {
   "cell_type": "markdown",
   "metadata": {},
   "source": [
    "### <font color='#7e7e7e'>5. Nonparametric statistics</font>"
   ]
  },
  {
   "cell_type": "markdown",
   "metadata": {},
   "source": [
    "<font color='#7e7e7e'> Mann-Whitney U rank test in two independent samples</font>"
   ]
  },
  {
   "cell_type": "code",
   "execution_count": 12,
   "metadata": {},
   "outputs": [
    {
     "name": "stdout",
     "output_type": "stream",
     "text": [
      "According to age, we do not reject H0 (samples are from the same distribution). Pvalue is 0.320.\n",
      "\n",
      "According to education_num, we do not reject H0 (samples are from the same distribution). Pvalue is 0.650.\n",
      "\n",
      "According to hours_per_week, we do not reject H0 (samples are from the same distribution). Pvalue is 0.570.\n",
      "\n"
     ]
    }
   ],
   "source": [
    "# H0: two independent samples come from the same distribution.\n",
    "for col in num_no_target.columns:\n",
    "    pvalue_MannWhitney = stats.mannwhitneyu(df_train[col],df_test[col], use_continuity=True, alternative='two-sided')\n",
    "    if pvalue_MannWhitney[1] > 0.05:\n",
    "        print('According to %s, we do not reject H0 (samples are from the same distribution). Pvalue is %.3f.' % (col, round(pvalue_MannWhitney[1],2)))\n",
    "    print('')"
   ]
  },
  {
   "cell_type": "markdown",
   "metadata": {},
   "source": [
    "<font color='#7e7e7e'> Chi-squared goodness-of-fit test</font>"
   ]
  },
  {
   "cell_type": "code",
   "execution_count": 13,
   "metadata": {},
   "outputs": [
    {
     "name": "stdout",
     "output_type": "stream",
     "text": [
      "We do not reject H0 (the samples come from the same distribution).\n"
     ]
    },
    {
     "data": {
      "text/html": [
       "<div>\n",
       "<style scoped>\n",
       "    .dataframe tbody tr th:only-of-type {\n",
       "        vertical-align: middle;\n",
       "    }\n",
       "\n",
       "    .dataframe tbody tr th {\n",
       "        vertical-align: top;\n",
       "    }\n",
       "\n",
       "    .dataframe thead th {\n",
       "        text-align: right;\n",
       "    }\n",
       "</style>\n",
       "<table border=\"1\" class=\"dataframe\">\n",
       "  <thead>\n",
       "    <tr style=\"text-align: right;\">\n",
       "      <th></th>\n",
       "      <th>workclass</th>\n",
       "      <th>education</th>\n",
       "      <th>marital_status</th>\n",
       "      <th>occupation</th>\n",
       "      <th>relationship</th>\n",
       "      <th>race</th>\n",
       "      <th>gender</th>\n",
       "      <th>native_country</th>\n",
       "      <th>greater_than_50k</th>\n",
       "    </tr>\n",
       "  </thead>\n",
       "  <tbody>\n",
       "    <tr>\n",
       "      <th>pvalue</th>\n",
       "      <td>0.999</td>\n",
       "      <td>1.0</td>\n",
       "      <td>0.998</td>\n",
       "      <td>1.0</td>\n",
       "      <td>0.992</td>\n",
       "      <td>0.973</td>\n",
       "      <td>0.48</td>\n",
       "      <td>1.0</td>\n",
       "      <td>0.479</td>\n",
       "    </tr>\n",
       "  </tbody>\n",
       "</table>\n",
       "</div>"
      ],
      "text/plain": [
       "        workclass  education  marital_status  occupation  relationship   race  \\\n",
       "pvalue      0.999        1.0           0.998         1.0         0.992  0.973   \n",
       "\n",
       "        gender  native_country  greater_than_50k  \n",
       "pvalue    0.48             1.0             0.479  "
      ]
     },
     "execution_count": 13,
     "metadata": {},
     "output_type": "execute_result"
    }
   ],
   "source": [
    "# Used to compare if variables from != samples come from the same distribution\n",
    "d_same_dist = {}\n",
    "d_diff_dist = {}\n",
    "for col in cat.columns:\n",
    "    # H0: the samples come from the same distribution\n",
    "    train = df_train[col].value_counts() / sum(df_train[col].value_counts())\n",
    "    test = df_test[col].value_counts() / sum(df_train[col].value_counts())\n",
    "    pvalue = stats.chisquare(train,test)[1]\n",
    "    if pvalue < 0.05:\n",
    "        # reject H0\n",
    "        d_diff_dist[col] = pvalue\n",
    "    else:\n",
    "        # accept H0\n",
    "        d_same_dist[col] = pvalue\n",
    "print('We do not reject H0 (the samples come from the same distribution).')\n",
    "round(pd.DataFrame([d_same_dist], index=['pvalue']),3)"
   ]
  },
  {
   "cell_type": "markdown",
   "metadata": {},
   "source": [
    "We have found no evidence to reject H0.\n",
    "\n",
    "**We have no evidence that the samples may not come from the same distribution.**"
   ]
  },
  {
   "cell_type": "markdown",
   "metadata": {},
   "source": [
    "# <font color='#464646'>Exploratory analysis</font>"
   ]
  },
  {
   "cell_type": "markdown",
   "metadata": {},
   "source": [
    "### <font color='#7e7e7e'>1. One-dimensional analysis</font>"
   ]
  },
  {
   "cell_type": "markdown",
   "metadata": {},
   "source": [
    "<font color='#7e7e7e'>Age unidimensional analysis</font>"
   ]
  },
  {
   "cell_type": "code",
   "execution_count": 14,
   "metadata": {},
   "outputs": [
    {
     "name": "stdout",
     "output_type": "stream",
     "text": [
      "       count       mean        std   min   25%   50%   75%   max\n",
      "age  48841.0  38.643721  13.710617  17.0  28.0  37.0  48.0  90.0\n",
      "\n",
      "Bowley's Coefficient:  0.1 <Right assimetry>\n",
      "\n",
      "Pearson's coefficient of variation:  0.35\n"
     ]
    },
    {
     "data": {
      "image/png": "[encoded data removed]",
      "text/plain": [
       "<Figure size 432x288 with 1 Axes>"
      ]
     },
     "metadata": {
      "needs_background": "light"
     },
     "output_type": "display_data"
    },
    {
     "data": {
      "image/png": "[encoded data removed]",
      "text/plain": [
       "<Figure size 432x288 with 1 Axes>"
      ]
     },
     "metadata": {
      "needs_background": "light"
     },
     "output_type": "display_data"
    }
   ],
   "source": [
    "plotting_num(df,'age')\n",
    "# the distribution is skewed to the right. The values decrease\n",
    "# on the right.\n",
    "# As the years get older, there is less data.\n",
    "# There are outliers (between 80 and 90 years old).\n",
    "# The mean ≈ median."
   ]
  },
  {
   "cell_type": "markdown",
   "metadata": {},
   "source": [
    "<font color='#7e7e7e'>Education_num unidimensional analysis</font>"
   ]
  },
  {
   "cell_type": "code",
   "execution_count": 15,
   "metadata": {},
   "outputs": [
    {
     "name": "stdout",
     "output_type": "stream",
     "text": [
      "                 count      mean       std  min  25%   50%   75%   max\n",
      "education_num  48841.0  10.07809  2.570999  1.0  9.0  10.0  12.0  16.0\n",
      "\n",
      "Bowley's Coefficient:  0.33 <Right assimetry>\n",
      "\n",
      "Pearson's coefficient of variation:  0.26\n"
     ]
    },
    {
     "data": {
      "image/png": "[encoded data removed]",
      "text/plain": [
       "<Figure size 432x288 with 1 Axes>"
      ]
     },
     "metadata": {
      "needs_background": "light"
     },
     "output_type": "display_data"
    },
    {
     "data": {
      "image/png": "[encoded data removed]",
      "text/plain": [
       "<Figure size 432x288 with 1 Axes>"
      ]
     },
     "metadata": {
      "needs_background": "light"
     },
     "output_type": "display_data"
    }
   ],
   "source": [
    "plotting_num(df,'education_num')"
   ]
  },
  {
   "cell_type": "markdown",
   "metadata": {},
   "source": [
    "<font color='#7e7e7e'>Hours per week unidimensional analysis</font>"
   ]
  },
  {
   "cell_type": "code",
   "execution_count": 16,
   "metadata": {},
   "outputs": [
    {
     "name": "stdout",
     "output_type": "stream",
     "text": [
      "                  count       mean        std  min   25%   50%   75%   max\n",
      "hours_per_week  48841.0  40.422391  12.391571  1.0  40.0  40.0  45.0  99.0\n",
      "\n",
      "Bowley's Coefficient:  1.0 <Right assimetry>\n",
      "\n",
      "Pearson's coefficient of variation:  0.31\n"
     ]
    },
    {
     "data": {
      "image/png": "[encoded data removed]",
      "text/plain": [
       "<Figure size 432x288 with 1 Axes>"
      ]
     },
     "metadata": {
      "needs_background": "light"
     },
     "output_type": "display_data"
    },
    {
     "data": {
      "image/png": "[encoded data removed]",
      "text/plain": [
       "<Figure size 432x288 with 1 Axes>"
      ]
     },
     "metadata": {
      "needs_background": "light"
     },
     "output_type": "display_data"
    }
   ],
   "source": [
    "plotting_num(df,'hours_per_week')\n",
    "# the distribution is skewed to the right. The values decrease\n",
    "# on the right.\n",
    "# There are many outliers at both ends.\n",
    "# The mean ≈ median."
   ]
  },
  {
   "cell_type": "code",
   "execution_count": 17,
   "metadata": {
    "scrolled": false
   },
   "outputs": [
    {
     "data": {
      "image/png": "[encoded data removed]",
      "text/plain": [
       "<Figure size 432x288 with 1 Axes>"
      ]
     },
     "metadata": {
      "needs_background": "light"
     },
     "output_type": "display_data"
    },
    {
     "data": {
      "image/png": "[encoded data removed]",
      "text/plain": [
       "<Figure size 432x288 with 1 Axes>"
      ]
     },
     "metadata": {
      "needs_background": "light"
     },
     "output_type": "display_data"
    },
    {
     "data": {
      "image/png": "[encoded data removed]",
      "text/plain": [
       "<Figure size 432x288 with 1 Axes>"
      ]
     },
     "metadata": {
      "needs_background": "light"
     },
     "output_type": "display_data"
    },
    {
     "data": {
      "image/png": "[encoded data removed]",
      "text/plain": [
       "<Figure size 432x288 with 1 Axes>"
      ]
     },
     "metadata": {
      "needs_background": "light"
     },
     "output_type": "display_data"
    },
    {
     "data": {
      "image/png": "[encoded data removed]",
      "text/plain": [
       "<Figure size 432x288 with 1 Axes>"
      ]
     },
     "metadata": {
      "needs_background": "light"
     },
     "output_type": "display_data"
    },
    {
     "data": {
      "image/png": "[encoded data removed]",
      "text/plain": [
       "<Figure size 432x288 with 1 Axes>"
      ]
     },
     "metadata": {
      "needs_background": "light"
     },
     "output_type": "display_data"
    },
    {
     "data": {
      "image/png": "[encoded data removed]",
      "text/plain": [
       "<Figure size 432x288 with 1 Axes>"
      ]
     },
     "metadata": {
      "needs_background": "light"
     },
     "output_type": "display_data"
    },
    {
     "data": {
      "image/png": "[encoded data removed]",
      "text/plain": [
       "<Figure size 432x288 with 1 Axes>"
      ]
     },
     "metadata": {
      "needs_background": "light"
     },
     "output_type": "display_data"
    },
    {
     "data": {
      "image/png": "[encoded data removed]",
      "text/plain": [
       "<Figure size 432x288 with 1 Axes>"
      ]
     },
     "metadata": {
      "needs_background": "light"
     },
     "output_type": "display_data"
    },
    {
     "data": {
      "text/plain": [
       "[None, None, None, None, None, None, None, None, None]"
      ]
     },
     "execution_count": 17,
     "metadata": {},
     "output_type": "execute_result"
    }
   ],
   "source": [
    "# Plot cualitative variables\n",
    "# Exploratory analysis of qualitative data\n",
    "cat_data = df.select_dtypes(include=['object'])\n",
    "cat_data['greater_than_50k'] = df['greater_than_50k']\n",
    "[plotting_cat(cat_data, col) for col in cat_data.columns]"
   ]
  },
  {
   "cell_type": "markdown",
   "metadata": {},
   "source": [
    "* Possible sample bias:\n",
    "      * 67% men.\n",
    "      * 86% by race.\n",
    "      * 91% from the US\n",
    "      * 13% artisan repair.\n",
    "    \n",
    "    \n",
    "* Anomaly:\n",
    "     * Weekly hours reach 100 hours.\n",
    "     * Outliers in numerical data."
   ]
  },
  {
   "cell_type": "markdown",
   "metadata": {},
   "source": [
    "### <font color='#7e7e7e'>2. Multidimensional analysis</font>"
   ]
  },
  {
   "cell_type": "markdown",
   "metadata": {},
   "source": [
    "<font color='#7e7e7e'>Education frequencies and >50k </font>"
   ]
  },
  {
   "cell_type": "code",
   "execution_count": 18,
   "metadata": {},
   "outputs": [
    {
     "data": {
      "text/html": [
       "<div>\n",
       "<style scoped>\n",
       "    .dataframe tbody tr th:only-of-type {\n",
       "        vertical-align: middle;\n",
       "    }\n",
       "\n",
       "    .dataframe tbody tr th {\n",
       "        vertical-align: top;\n",
       "    }\n",
       "\n",
       "    .dataframe thead th {\n",
       "        text-align: right;\n",
       "    }\n",
       "</style>\n",
       "<table border=\"1\" class=\"dataframe\">\n",
       "  <thead>\n",
       "    <tr style=\"text-align: right;\">\n",
       "      <th></th>\n",
       "      <th>10th</th>\n",
       "      <th>11th</th>\n",
       "      <th>HS-grad</th>\n",
       "      <th>Assoc-acdm</th>\n",
       "      <th>Assoc-voc</th>\n",
       "      <th>Some-college</th>\n",
       "      <th>Bachelors</th>\n",
       "      <th>Masters</th>\n",
       "      <th>total_earns</th>\n",
       "    </tr>\n",
       "  </thead>\n",
       "  <tbody>\n",
       "    <tr>\n",
       "      <th>&lt;50k</th>\n",
       "      <td>3.0</td>\n",
       "      <td>4.0</td>\n",
       "      <td>30.0</td>\n",
       "      <td>3.0</td>\n",
       "      <td>3.0</td>\n",
       "      <td>20.0</td>\n",
       "      <td>11.0</td>\n",
       "      <td>3.0</td>\n",
       "      <td>76.0</td>\n",
       "    </tr>\n",
       "    <tr>\n",
       "      <th>&gt;50k</th>\n",
       "      <td>0.0</td>\n",
       "      <td>0.0</td>\n",
       "      <td>6.0</td>\n",
       "      <td>1.0</td>\n",
       "      <td>1.0</td>\n",
       "      <td>5.0</td>\n",
       "      <td>7.0</td>\n",
       "      <td>3.0</td>\n",
       "      <td>24.0</td>\n",
       "    </tr>\n",
       "    <tr>\n",
       "      <th>total_education</th>\n",
       "      <td>3.0</td>\n",
       "      <td>4.0</td>\n",
       "      <td>36.0</td>\n",
       "      <td>4.0</td>\n",
       "      <td>5.0</td>\n",
       "      <td>25.0</td>\n",
       "      <td>18.0</td>\n",
       "      <td>6.0</td>\n",
       "      <td>100.0</td>\n",
       "    </tr>\n",
       "  </tbody>\n",
       "</table>\n",
       "</div>"
      ],
      "text/plain": [
       "                 10th  11th  HS-grad  Assoc-acdm  Assoc-voc  Some-college  \\\n",
       "<50k              3.0   4.0     30.0         3.0        3.0          20.0   \n",
       ">50k              0.0   0.0      6.0         1.0        1.0           5.0   \n",
       "total_education   3.0   4.0     36.0         4.0        5.0          25.0   \n",
       "\n",
       "                 Bachelors  Masters  total_earns  \n",
       "<50k                  11.0      3.0         76.0  \n",
       ">50k                   7.0      3.0         24.0  \n",
       "total_education       18.0      6.0        100.0  "
      ]
     },
     "metadata": {},
     "output_type": "display_data"
    },
    {
     "data": {
      "text/html": [
       "<div>\n",
       "<style scoped>\n",
       "    .dataframe tbody tr th:only-of-type {\n",
       "        vertical-align: middle;\n",
       "    }\n",
       "\n",
       "    .dataframe tbody tr th {\n",
       "        vertical-align: top;\n",
       "    }\n",
       "\n",
       "    .dataframe thead th {\n",
       "        text-align: right;\n",
       "    }\n",
       "</style>\n",
       "<table border=\"1\" class=\"dataframe\">\n",
       "  <thead>\n",
       "    <tr style=\"text-align: right;\">\n",
       "      <th></th>\n",
       "      <th>10th</th>\n",
       "      <th>11th</th>\n",
       "      <th>HS-grad</th>\n",
       "      <th>Assoc-acdm</th>\n",
       "      <th>Assoc-voc</th>\n",
       "      <th>Some-college</th>\n",
       "      <th>Bachelors</th>\n",
       "      <th>Masters</th>\n",
       "      <th>total_earns</th>\n",
       "    </tr>\n",
       "  </thead>\n",
       "  <tbody>\n",
       "    <tr>\n",
       "      <th>&lt;50k</th>\n",
       "      <td>94.0</td>\n",
       "      <td>95.0</td>\n",
       "      <td>84.0</td>\n",
       "      <td>74.0</td>\n",
       "      <td>75.0</td>\n",
       "      <td>81.0</td>\n",
       "      <td>59.0</td>\n",
       "      <td>45.0</td>\n",
       "      <td>76.0</td>\n",
       "    </tr>\n",
       "    <tr>\n",
       "      <th>&gt;50k</th>\n",
       "      <td>6.0</td>\n",
       "      <td>5.0</td>\n",
       "      <td>16.0</td>\n",
       "      <td>26.0</td>\n",
       "      <td>25.0</td>\n",
       "      <td>19.0</td>\n",
       "      <td>41.0</td>\n",
       "      <td>55.0</td>\n",
       "      <td>24.0</td>\n",
       "    </tr>\n",
       "    <tr>\n",
       "      <th>total_education</th>\n",
       "      <td>100.0</td>\n",
       "      <td>100.0</td>\n",
       "      <td>100.0</td>\n",
       "      <td>100.0</td>\n",
       "      <td>100.0</td>\n",
       "      <td>100.0</td>\n",
       "      <td>100.0</td>\n",
       "      <td>100.0</td>\n",
       "      <td>100.0</td>\n",
       "    </tr>\n",
       "  </tbody>\n",
       "</table>\n",
       "</div>"
      ],
      "text/plain": [
       "                  10th   11th  HS-grad  Assoc-acdm  Assoc-voc  Some-college  \\\n",
       "<50k              94.0   95.0     84.0        74.0       75.0          81.0   \n",
       ">50k               6.0    5.0     16.0        26.0       25.0          19.0   \n",
       "total_education  100.0  100.0    100.0       100.0      100.0         100.0   \n",
       "\n",
       "                 Bachelors  Masters  total_earns  \n",
       "<50k                  59.0     45.0         76.0  \n",
       ">50k                  41.0     55.0         24.0  \n",
       "total_education      100.0    100.0        100.0  "
      ]
     },
     "metadata": {},
     "output_type": "display_data"
    }
   ],
   "source": [
    "tabla_contingencia_frec_rel_con(df,'education')"
   ]
  },
  {
   "cell_type": "markdown",
   "metadata": {},
   "source": [
    "* Of those with masters (only 6%), half earn less than 50k.\n",
    "* Of those with a bachelor's degree, only 41% earn more than 50k.\n",
    "* The proportion of those who earn more corresponds, less in assoc-acdm and assoc-voc, to a higher level of studies.\n",
    "* Completing a bachelor's degree gives you a 22% higher chance of earning more than 50k.\n",
    "* Having gone through a university only gives you a 3% greater chance of earning more than 50k than having a high school degree (except assoc-acdm and assoc-voc)."
   ]
  },
  {
   "cell_type": "markdown",
   "metadata": {},
   "source": [
    "<font color='#7e7e7e'>Occupation Frequencies and >50k</font>"
   ]
  },
  {
   "cell_type": "code",
   "execution_count": 19,
   "metadata": {},
   "outputs": [
    {
     "data": {
      "text/html": [
       "<div>\n",
       "<style scoped>\n",
       "    .dataframe tbody tr th:only-of-type {\n",
       "        vertical-align: middle;\n",
       "    }\n",
       "\n",
       "    .dataframe tbody tr th {\n",
       "        vertical-align: top;\n",
       "    }\n",
       "\n",
       "    .dataframe thead th {\n",
       "        text-align: right;\n",
       "    }\n",
       "</style>\n",
       "<table border=\"1\" class=\"dataframe\">\n",
       "  <thead>\n",
       "    <tr style=\"text-align: right;\">\n",
       "      <th></th>\n",
       "      <th>Adm-clerical</th>\n",
       "      <th>Craft-repair</th>\n",
       "      <th>Exec-managerial</th>\n",
       "      <th>Farming-fishing</th>\n",
       "      <th>Handlers-cleaners</th>\n",
       "      <th>Machine-op-inspct</th>\n",
       "      <th>Other-service</th>\n",
       "      <th>Prof-specialty</th>\n",
       "      <th>Sales</th>\n",
       "      <th>Tech-support</th>\n",
       "      <th>Transport-moving</th>\n",
       "      <th>total_earns</th>\n",
       "    </tr>\n",
       "  </thead>\n",
       "  <tbody>\n",
       "    <tr>\n",
       "      <th>&lt;50k</th>\n",
       "      <td>11.0</td>\n",
       "      <td>11.0</td>\n",
       "      <td>7.0</td>\n",
       "      <td>3.0</td>\n",
       "      <td>4.0</td>\n",
       "      <td>6.0</td>\n",
       "      <td>11.0</td>\n",
       "      <td>8.0</td>\n",
       "      <td>9.0</td>\n",
       "      <td>2.0</td>\n",
       "      <td>4.0</td>\n",
       "      <td>75.0</td>\n",
       "    </tr>\n",
       "    <tr>\n",
       "      <th>&gt;50k</th>\n",
       "      <td>2.0</td>\n",
       "      <td>3.0</td>\n",
       "      <td>6.0</td>\n",
       "      <td>0.0</td>\n",
       "      <td>0.0</td>\n",
       "      <td>1.0</td>\n",
       "      <td>0.0</td>\n",
       "      <td>6.0</td>\n",
       "      <td>3.0</td>\n",
       "      <td>1.0</td>\n",
       "      <td>1.0</td>\n",
       "      <td>25.0</td>\n",
       "    </tr>\n",
       "    <tr>\n",
       "      <th>total_occupation</th>\n",
       "      <td>13.0</td>\n",
       "      <td>14.0</td>\n",
       "      <td>14.0</td>\n",
       "      <td>3.0</td>\n",
       "      <td>5.0</td>\n",
       "      <td>7.0</td>\n",
       "      <td>11.0</td>\n",
       "      <td>14.0</td>\n",
       "      <td>12.0</td>\n",
       "      <td>3.0</td>\n",
       "      <td>5.0</td>\n",
       "      <td>100.0</td>\n",
       "    </tr>\n",
       "  </tbody>\n",
       "</table>\n",
       "</div>"
      ],
      "text/plain": [
       "                  Adm-clerical  Craft-repair  Exec-managerial  \\\n",
       "<50k                      11.0          11.0              7.0   \n",
       ">50k                       2.0           3.0              6.0   \n",
       "total_occupation          13.0          14.0             14.0   \n",
       "\n",
       "                  Farming-fishing  Handlers-cleaners  Machine-op-inspct  \\\n",
       "<50k                          3.0                4.0                6.0   \n",
       ">50k                          0.0                0.0                1.0   \n",
       "total_occupation              3.0                5.0                7.0   \n",
       "\n",
       "                  Other-service  Prof-specialty  Sales  Tech-support  \\\n",
       "<50k                       11.0             8.0    9.0           2.0   \n",
       ">50k                        0.0             6.0    3.0           1.0   \n",
       "total_occupation           11.0            14.0   12.0           3.0   \n",
       "\n",
       "                  Transport-moving  total_earns  \n",
       "<50k                           4.0         75.0  \n",
       ">50k                           1.0         25.0  \n",
       "total_occupation               5.0        100.0  "
      ]
     },
     "metadata": {},
     "output_type": "display_data"
    },
    {
     "data": {
      "text/html": [
       "<div>\n",
       "<style scoped>\n",
       "    .dataframe tbody tr th:only-of-type {\n",
       "        vertical-align: middle;\n",
       "    }\n",
       "\n",
       "    .dataframe tbody tr th {\n",
       "        vertical-align: top;\n",
       "    }\n",
       "\n",
       "    .dataframe thead th {\n",
       "        text-align: right;\n",
       "    }\n",
       "</style>\n",
       "<table border=\"1\" class=\"dataframe\">\n",
       "  <thead>\n",
       "    <tr style=\"text-align: right;\">\n",
       "      <th></th>\n",
       "      <th>Adm-clerical</th>\n",
       "      <th>Craft-repair</th>\n",
       "      <th>Exec-managerial</th>\n",
       "      <th>Farming-fishing</th>\n",
       "      <th>Handlers-cleaners</th>\n",
       "      <th>Machine-op-inspct</th>\n",
       "      <th>Other-service</th>\n",
       "      <th>Prof-specialty</th>\n",
       "      <th>Sales</th>\n",
       "      <th>Tech-support</th>\n",
       "      <th>Transport-moving</th>\n",
       "      <th>total_earns</th>\n",
       "    </tr>\n",
       "  </thead>\n",
       "  <tbody>\n",
       "    <tr>\n",
       "      <th>&lt;50k</th>\n",
       "      <td>86.0</td>\n",
       "      <td>77.0</td>\n",
       "      <td>52.0</td>\n",
       "      <td>88.0</td>\n",
       "      <td>93.0</td>\n",
       "      <td>88.0</td>\n",
       "      <td>96.0</td>\n",
       "      <td>55.0</td>\n",
       "      <td>73.0</td>\n",
       "      <td>71.0</td>\n",
       "      <td>80.0</td>\n",
       "      <td>75.0</td>\n",
       "    </tr>\n",
       "    <tr>\n",
       "      <th>&gt;50k</th>\n",
       "      <td>14.0</td>\n",
       "      <td>23.0</td>\n",
       "      <td>48.0</td>\n",
       "      <td>12.0</td>\n",
       "      <td>7.0</td>\n",
       "      <td>12.0</td>\n",
       "      <td>4.0</td>\n",
       "      <td>45.0</td>\n",
       "      <td>27.0</td>\n",
       "      <td>29.0</td>\n",
       "      <td>20.0</td>\n",
       "      <td>25.0</td>\n",
       "    </tr>\n",
       "    <tr>\n",
       "      <th>total_occupation</th>\n",
       "      <td>100.0</td>\n",
       "      <td>100.0</td>\n",
       "      <td>100.0</td>\n",
       "      <td>100.0</td>\n",
       "      <td>100.0</td>\n",
       "      <td>100.0</td>\n",
       "      <td>100.0</td>\n",
       "      <td>100.0</td>\n",
       "      <td>100.0</td>\n",
       "      <td>100.0</td>\n",
       "      <td>100.0</td>\n",
       "      <td>100.0</td>\n",
       "    </tr>\n",
       "  </tbody>\n",
       "</table>\n",
       "</div>"
      ],
      "text/plain": [
       "                  Adm-clerical  Craft-repair  Exec-managerial  \\\n",
       "<50k                      86.0          77.0             52.0   \n",
       ">50k                      14.0          23.0             48.0   \n",
       "total_occupation         100.0         100.0            100.0   \n",
       "\n",
       "                  Farming-fishing  Handlers-cleaners  Machine-op-inspct  \\\n",
       "<50k                         88.0               93.0               88.0   \n",
       ">50k                         12.0                7.0               12.0   \n",
       "total_occupation            100.0              100.0              100.0   \n",
       "\n",
       "                  Other-service  Prof-specialty  Sales  Tech-support  \\\n",
       "<50k                       96.0            55.0   73.0          71.0   \n",
       ">50k                        4.0            45.0   27.0          29.0   \n",
       "total_occupation          100.0           100.0  100.0         100.0   \n",
       "\n",
       "                  Transport-moving  total_earns  \n",
       "<50k                          80.0         75.0  \n",
       ">50k                          20.0         25.0  \n",
       "total_occupation             100.0        100.0  "
      ]
     },
     "metadata": {},
     "output_type": "display_data"
    }
   ],
   "source": [
    "tabla_contingencia_frec_rel_con(df,'occupation')"
   ]
  },
  {
   "cell_type": "markdown",
   "metadata": {},
   "source": [
    "* It is curious that the world of repairs is 14% of the sample <- Possible sample bias.\n",
    "\n",
    "* Almost half of those who are managers and specialists charge more than 50k."
   ]
  },
  {
   "cell_type": "markdown",
   "metadata": {},
   "source": [
    "<font color='#7e7e7e'>Relationship Frequencies and >50k</font>"
   ]
  },
  {
   "cell_type": "code",
   "execution_count": 20,
   "metadata": {},
   "outputs": [
    {
     "data": {
      "text/html": [
       "<div>\n",
       "<style scoped>\n",
       "    .dataframe tbody tr th:only-of-type {\n",
       "        vertical-align: middle;\n",
       "    }\n",
       "\n",
       "    .dataframe tbody tr th {\n",
       "        vertical-align: top;\n",
       "    }\n",
       "\n",
       "    .dataframe thead th {\n",
       "        text-align: right;\n",
       "    }\n",
       "</style>\n",
       "<table border=\"1\" class=\"dataframe\">\n",
       "  <thead>\n",
       "    <tr style=\"text-align: right;\">\n",
       "      <th></th>\n",
       "      <th>Husband</th>\n",
       "      <th>Not-in-family</th>\n",
       "      <th>Other-relative</th>\n",
       "      <th>Own-child</th>\n",
       "      <th>Unmarried</th>\n",
       "      <th>Wife</th>\n",
       "      <th>total_earns</th>\n",
       "    </tr>\n",
       "  </thead>\n",
       "  <tbody>\n",
       "    <tr>\n",
       "      <th>&lt;50k</th>\n",
       "      <td>22.0</td>\n",
       "      <td>23.0</td>\n",
       "      <td>3.0</td>\n",
       "      <td>15.0</td>\n",
       "      <td>10.0</td>\n",
       "      <td>3.0</td>\n",
       "      <td>76.0</td>\n",
       "    </tr>\n",
       "    <tr>\n",
       "      <th>&gt;50k</th>\n",
       "      <td>18.0</td>\n",
       "      <td>3.0</td>\n",
       "      <td>0.0</td>\n",
       "      <td>0.0</td>\n",
       "      <td>1.0</td>\n",
       "      <td>2.0</td>\n",
       "      <td>24.0</td>\n",
       "    </tr>\n",
       "    <tr>\n",
       "      <th>total_relationship</th>\n",
       "      <td>40.0</td>\n",
       "      <td>26.0</td>\n",
       "      <td>3.0</td>\n",
       "      <td>16.0</td>\n",
       "      <td>10.0</td>\n",
       "      <td>5.0</td>\n",
       "      <td>100.0</td>\n",
       "    </tr>\n",
       "  </tbody>\n",
       "</table>\n",
       "</div>"
      ],
      "text/plain": [
       "                    Husband  Not-in-family  Other-relative  Own-child  \\\n",
       "<50k                   22.0           23.0             3.0       15.0   \n",
       ">50k                   18.0            3.0             0.0        0.0   \n",
       "total_relationship     40.0           26.0             3.0       16.0   \n",
       "\n",
       "                    Unmarried  Wife  total_earns  \n",
       "<50k                     10.0   3.0         76.0  \n",
       ">50k                      1.0   2.0         24.0  \n",
       "total_relationship       10.0   5.0        100.0  "
      ]
     },
     "metadata": {},
     "output_type": "display_data"
    },
    {
     "data": {
      "text/html": [
       "<div>\n",
       "<style scoped>\n",
       "    .dataframe tbody tr th:only-of-type {\n",
       "        vertical-align: middle;\n",
       "    }\n",
       "\n",
       "    .dataframe tbody tr th {\n",
       "        vertical-align: top;\n",
       "    }\n",
       "\n",
       "    .dataframe thead th {\n",
       "        text-align: right;\n",
       "    }\n",
       "</style>\n",
       "<table border=\"1\" class=\"dataframe\">\n",
       "  <thead>\n",
       "    <tr style=\"text-align: right;\">\n",
       "      <th></th>\n",
       "      <th>Husband</th>\n",
       "      <th>Not-in-family</th>\n",
       "      <th>Other-relative</th>\n",
       "      <th>Own-child</th>\n",
       "      <th>Unmarried</th>\n",
       "      <th>Wife</th>\n",
       "      <th>total_earns</th>\n",
       "    </tr>\n",
       "  </thead>\n",
       "  <tbody>\n",
       "    <tr>\n",
       "      <th>&lt;50k</th>\n",
       "      <td>55.0</td>\n",
       "      <td>90.0</td>\n",
       "      <td>97.0</td>\n",
       "      <td>99.0</td>\n",
       "      <td>94.0</td>\n",
       "      <td>53.0</td>\n",
       "      <td>76.0</td>\n",
       "    </tr>\n",
       "    <tr>\n",
       "      <th>&gt;50k</th>\n",
       "      <td>45.0</td>\n",
       "      <td>10.0</td>\n",
       "      <td>3.0</td>\n",
       "      <td>1.0</td>\n",
       "      <td>6.0</td>\n",
       "      <td>47.0</td>\n",
       "      <td>24.0</td>\n",
       "    </tr>\n",
       "    <tr>\n",
       "      <th>total_relationship</th>\n",
       "      <td>100.0</td>\n",
       "      <td>100.0</td>\n",
       "      <td>100.0</td>\n",
       "      <td>100.0</td>\n",
       "      <td>100.0</td>\n",
       "      <td>100.0</td>\n",
       "      <td>100.0</td>\n",
       "    </tr>\n",
       "  </tbody>\n",
       "</table>\n",
       "</div>"
      ],
      "text/plain": [
       "                    Husband  Not-in-family  Other-relative  Own-child  \\\n",
       "<50k                   55.0           90.0            97.0       99.0   \n",
       ">50k                   45.0           10.0             3.0        1.0   \n",
       "total_relationship    100.0          100.0           100.0      100.0   \n",
       "\n",
       "                    Unmarried   Wife  total_earns  \n",
       "<50k                     94.0   53.0         76.0  \n",
       ">50k                      6.0   47.0         24.0  \n",
       "total_relationship      100.0  100.0        100.0  "
      ]
     },
     "metadata": {},
     "output_type": "display_data"
    }
   ],
   "source": [
    "tabla_contingencia_frec_rel_con(df,'relationship')"
   ]
  },
  {
   "cell_type": "markdown",
   "metadata": {},
   "source": [
    "* Only married people earn, almost half, more than 50k."
   ]
  },
  {
   "cell_type": "markdown",
   "metadata": {},
   "source": [
    "<font color='#7e7e7e'>Hours_per_week Frequencies and >50k</font>"
   ]
  },
  {
   "cell_type": "code",
   "execution_count": 21,
   "metadata": {},
   "outputs": [
    {
     "data": {
      "text/plain": [
       "<AxesSubplot:xlabel='greater_than_50k', ylabel='hours_per_week'>"
      ]
     },
     "execution_count": 21,
     "metadata": {},
     "output_type": "execute_result"
    },
    {
     "data": {
      "image/png": "[encoded data removed]",
      "text/plain": [
       "<Figure size 432x288 with 1 Axes>"
      ]
     },
     "metadata": {
      "needs_background": "light"
     },
     "output_type": "display_data"
    }
   ],
   "source": [
    "sns.boxplot(x='greater_than_50k',y='hours_per_week',data=df, boxprops=dict(alpha=.73))"
   ]
  },
  {
   "cell_type": "markdown",
   "metadata": {},
   "source": [
    "* Those who earn more than 50k spend more hours on average."
   ]
  },
  {
   "cell_type": "markdown",
   "metadata": {},
   "source": [
    "# <font color='#464646'>We group unique values with a frequency less than 2.5%</font>"
   ]
  },
  {
   "cell_type": "code",
   "execution_count": 22,
   "metadata": {},
   "outputs": [],
   "source": [
    "# convert to categories all our variables to be able to group values\n",
    "# that appear <0.025.\n",
    "age = df.age.values.astype(str)\n",
    "education_num = df.education_num.values.astype(str)\n",
    "hours_per_week = df.hours_per_week.values.astype(str)\n",
    "\n",
    "df['age'] = age\n",
    "df['education_num'] = education_num\n",
    "df['hours_per_week'] = hours_per_week\n",
    "\n",
    "# returns all the dataframes with its values that appear <0.025 in groups.\n",
    "df = unique_values_less25per_df(df)"
   ]
  },
  {
   "cell_type": "markdown",
   "metadata": {},
   "source": [
    "# <font color='#464646'>Correlations and Associations</font>"
   ]
  },
  {
   "cell_type": "markdown",
   "metadata": {},
   "source": [
    "### <font color='#7e7e7e'>1. Chi-squared test of independence</font>\n",
    "<font color='#7e7e7e'>Checks if the Boolean target variable with each categorical variable are independent</font>"
   ]
  },
  {
   "cell_type": "code",
   "execution_count": 23,
   "metadata": {},
   "outputs": [
    {
     "name": "stdout",
     "output_type": "stream",
     "text": [
      "Association greater_than_50k VS categorical\n"
     ]
    },
    {
     "data": {
      "text/html": [
       "<div>\n",
       "<style scoped>\n",
       "    .dataframe tbody tr th:only-of-type {\n",
       "        vertical-align: middle;\n",
       "    }\n",
       "\n",
       "    .dataframe tbody tr th {\n",
       "        vertical-align: top;\n",
       "    }\n",
       "\n",
       "    .dataframe thead th {\n",
       "        text-align: right;\n",
       "    }\n",
       "</style>\n",
       "<table border=\"1\" class=\"dataframe\">\n",
       "  <thead>\n",
       "    <tr style=\"text-align: right;\">\n",
       "      <th></th>\n",
       "      <th>Pvalue</th>\n",
       "      <th>Result</th>\n",
       "    </tr>\n",
       "  </thead>\n",
       "  <tbody>\n",
       "    <tr>\n",
       "      <th>workclass and &gt;50k</th>\n",
       "      <td>0.0</td>\n",
       "      <td>We reject H0. Dependence between the variables...</td>\n",
       "    </tr>\n",
       "    <tr>\n",
       "      <th>education and &gt;50k</th>\n",
       "      <td>0.0</td>\n",
       "      <td>We reject H0. Dependence between the variables...</td>\n",
       "    </tr>\n",
       "    <tr>\n",
       "      <th>marital_status and &gt;50k</th>\n",
       "      <td>0.0</td>\n",
       "      <td>We reject H0. Dependence between the variables...</td>\n",
       "    </tr>\n",
       "    <tr>\n",
       "      <th>occupation and &gt;50k</th>\n",
       "      <td>0.0</td>\n",
       "      <td>We reject H0. Dependence between the variables...</td>\n",
       "    </tr>\n",
       "    <tr>\n",
       "      <th>relationship and &gt;50k</th>\n",
       "      <td>0.0</td>\n",
       "      <td>We reject H0. Dependence between the variables...</td>\n",
       "    </tr>\n",
       "    <tr>\n",
       "      <th>race and &gt;50k</th>\n",
       "      <td>0.0</td>\n",
       "      <td>We reject H0. Dependence between the variables...</td>\n",
       "    </tr>\n",
       "    <tr>\n",
       "      <th>gender and &gt;50k</th>\n",
       "      <td>0.0</td>\n",
       "      <td>We reject H0. Dependence between the variables...</td>\n",
       "    </tr>\n",
       "    <tr>\n",
       "      <th>native_country and &gt;50k</th>\n",
       "      <td>0.0</td>\n",
       "      <td>We reject H0. Dependence between the variables...</td>\n",
       "    </tr>\n",
       "  </tbody>\n",
       "</table>\n",
       "</div>"
      ],
      "text/plain": [
       "                        Pvalue  \\\n",
       "workclass and >50k         0.0   \n",
       "education and >50k         0.0   \n",
       "marital_status and >50k    0.0   \n",
       "occupation and >50k        0.0   \n",
       "relationship and >50k      0.0   \n",
       "race and >50k              0.0   \n",
       "gender and >50k            0.0   \n",
       "native_country and >50k    0.0   \n",
       "\n",
       "                                                                    Result  \n",
       "workclass and >50k       We reject H0. Dependence between the variables...  \n",
       "education and >50k       We reject H0. Dependence between the variables...  \n",
       "marital_status and >50k  We reject H0. Dependence between the variables...  \n",
       "occupation and >50k      We reject H0. Dependence between the variables...  \n",
       "relationship and >50k    We reject H0. Dependence between the variables...  \n",
       "race and >50k            We reject H0. Dependence between the variables...  \n",
       "gender and >50k          We reject H0. Dependence between the variables...  \n",
       "native_country and >50k  We reject H0. Dependence between the variables...  "
      ]
     },
     "execution_count": 23,
     "metadata": {},
     "output_type": "execute_result"
    }
   ],
   "source": [
    "print('Association greater_than_50k VS categorical')\n",
    "d_association = {}\n",
    "# H0: there is no relation between the variables.\n",
    "for col in cat.columns:\n",
    "    if col != 'greater_than_50k':\n",
    "        tab = pd.crosstab(df['greater_than_50k'],df[col])\n",
    "        stat, p, dof, expected = stats.chi2_contingency(tab)\n",
    "        alpha = 0.05\n",
    "        if p <= alpha: \n",
    "            # reject H0\n",
    "            d_association[col + ' and >50k'] = [round(p,2),'We reject H0. Dependence between the variables is observed.'] \n",
    "        else: \n",
    "            # failt to reject H0\n",
    "            d_association[col + ' and >50k'] = [round(p,2),'We do not reject H0. No dependence is observed between the variables.'] \n",
    "\n",
    "pd.DataFrame(d_association, index=['Pvalue','Result']).T"
   ]
  },
  {
   "cell_type": "code",
   "execution_count": 24,
   "metadata": {},
   "outputs": [
    {
     "name": "stdout",
     "output_type": "stream",
     "text": [
      "Regressor variable  VS regressor variable\n"
     ]
    },
    {
     "data": {
      "text/html": [
       "<div>\n",
       "<style scoped>\n",
       "    .dataframe tbody tr th:only-of-type {\n",
       "        vertical-align: middle;\n",
       "    }\n",
       "\n",
       "    .dataframe tbody tr th {\n",
       "        vertical-align: top;\n",
       "    }\n",
       "\n",
       "    .dataframe thead th {\n",
       "        text-align: right;\n",
       "    }\n",
       "</style>\n",
       "<table border=\"1\" class=\"dataframe\">\n",
       "  <thead>\n",
       "    <tr style=\"text-align: right;\">\n",
       "      <th></th>\n",
       "      <th>var1</th>\n",
       "      <th>var2</th>\n",
       "      <th>result</th>\n",
       "    </tr>\n",
       "  </thead>\n",
       "  <tbody>\n",
       "    <tr>\n",
       "      <th>0</th>\n",
       "      <td>workclass</td>\n",
       "      <td>education</td>\n",
       "      <td>We reject H0. There may be dependency between ...</td>\n",
       "    </tr>\n",
       "    <tr>\n",
       "      <th>1</th>\n",
       "      <td>workclass</td>\n",
       "      <td>marital_status</td>\n",
       "      <td>We reject H0. There may be dependency between ...</td>\n",
       "    </tr>\n",
       "    <tr>\n",
       "      <th>2</th>\n",
       "      <td>workclass</td>\n",
       "      <td>occupation</td>\n",
       "      <td>We reject H0. There may be dependency between ...</td>\n",
       "    </tr>\n",
       "    <tr>\n",
       "      <th>3</th>\n",
       "      <td>workclass</td>\n",
       "      <td>relationship</td>\n",
       "      <td>We reject H0. There may be dependency between ...</td>\n",
       "    </tr>\n",
       "    <tr>\n",
       "      <th>4</th>\n",
       "      <td>workclass</td>\n",
       "      <td>race</td>\n",
       "      <td>We reject H0. There may be dependency between ...</td>\n",
       "    </tr>\n",
       "    <tr>\n",
       "      <th>5</th>\n",
       "      <td>workclass</td>\n",
       "      <td>gender</td>\n",
       "      <td>We reject H0. There may be dependency between ...</td>\n",
       "    </tr>\n",
       "    <tr>\n",
       "      <th>6</th>\n",
       "      <td>workclass</td>\n",
       "      <td>native_country</td>\n",
       "      <td>We reject H0. There may be dependency between ...</td>\n",
       "    </tr>\n",
       "    <tr>\n",
       "      <th>7</th>\n",
       "      <td>education</td>\n",
       "      <td>marital_status</td>\n",
       "      <td>We reject H0. There may be dependency between ...</td>\n",
       "    </tr>\n",
       "    <tr>\n",
       "      <th>8</th>\n",
       "      <td>education</td>\n",
       "      <td>occupation</td>\n",
       "      <td>We reject H0. There may be dependency between ...</td>\n",
       "    </tr>\n",
       "    <tr>\n",
       "      <th>9</th>\n",
       "      <td>education</td>\n",
       "      <td>relationship</td>\n",
       "      <td>We reject H0. There may be dependency between ...</td>\n",
       "    </tr>\n",
       "    <tr>\n",
       "      <th>10</th>\n",
       "      <td>education</td>\n",
       "      <td>race</td>\n",
       "      <td>We reject H0. There may be dependency between ...</td>\n",
       "    </tr>\n",
       "    <tr>\n",
       "      <th>11</th>\n",
       "      <td>education</td>\n",
       "      <td>gender</td>\n",
       "      <td>We reject H0. There may be dependency between ...</td>\n",
       "    </tr>\n",
       "    <tr>\n",
       "      <th>12</th>\n",
       "      <td>education</td>\n",
       "      <td>native_country</td>\n",
       "      <td>We reject H0. There may be dependency between ...</td>\n",
       "    </tr>\n",
       "    <tr>\n",
       "      <th>13</th>\n",
       "      <td>marital_status</td>\n",
       "      <td>occupation</td>\n",
       "      <td>We reject H0. There may be dependency between ...</td>\n",
       "    </tr>\n",
       "    <tr>\n",
       "      <th>14</th>\n",
       "      <td>marital_status</td>\n",
       "      <td>relationship</td>\n",
       "      <td>We reject H0. There may be dependency between ...</td>\n",
       "    </tr>\n",
       "    <tr>\n",
       "      <th>15</th>\n",
       "      <td>marital_status</td>\n",
       "      <td>race</td>\n",
       "      <td>We reject H0. There may be dependency between ...</td>\n",
       "    </tr>\n",
       "    <tr>\n",
       "      <th>16</th>\n",
       "      <td>marital_status</td>\n",
       "      <td>gender</td>\n",
       "      <td>We reject H0. There may be dependency between ...</td>\n",
       "    </tr>\n",
       "    <tr>\n",
       "      <th>17</th>\n",
       "      <td>marital_status</td>\n",
       "      <td>native_country</td>\n",
       "      <td>We reject H0. There may be dependency between ...</td>\n",
       "    </tr>\n",
       "    <tr>\n",
       "      <th>18</th>\n",
       "      <td>occupation</td>\n",
       "      <td>relationship</td>\n",
       "      <td>We reject H0. There may be dependency between ...</td>\n",
       "    </tr>\n",
       "    <tr>\n",
       "      <th>19</th>\n",
       "      <td>occupation</td>\n",
       "      <td>race</td>\n",
       "      <td>We reject H0. There may be dependency between ...</td>\n",
       "    </tr>\n",
       "    <tr>\n",
       "      <th>20</th>\n",
       "      <td>occupation</td>\n",
       "      <td>gender</td>\n",
       "      <td>We reject H0. There may be dependency between ...</td>\n",
       "    </tr>\n",
       "    <tr>\n",
       "      <th>21</th>\n",
       "      <td>occupation</td>\n",
       "      <td>native_country</td>\n",
       "      <td>We reject H0. There may be dependency between ...</td>\n",
       "    </tr>\n",
       "    <tr>\n",
       "      <th>22</th>\n",
       "      <td>relationship</td>\n",
       "      <td>race</td>\n",
       "      <td>We reject H0. There may be dependency between ...</td>\n",
       "    </tr>\n",
       "    <tr>\n",
       "      <th>23</th>\n",
       "      <td>relationship</td>\n",
       "      <td>gender</td>\n",
       "      <td>We reject H0. There may be dependency between ...</td>\n",
       "    </tr>\n",
       "    <tr>\n",
       "      <th>24</th>\n",
       "      <td>relationship</td>\n",
       "      <td>native_country</td>\n",
       "      <td>We reject H0. There may be dependency between ...</td>\n",
       "    </tr>\n",
       "    <tr>\n",
       "      <th>25</th>\n",
       "      <td>race</td>\n",
       "      <td>gender</td>\n",
       "      <td>We reject H0. There may be dependency between ...</td>\n",
       "    </tr>\n",
       "    <tr>\n",
       "      <th>26</th>\n",
       "      <td>race</td>\n",
       "      <td>native_country</td>\n",
       "      <td>We reject H0. There may be dependency between ...</td>\n",
       "    </tr>\n",
       "    <tr>\n",
       "      <th>27</th>\n",
       "      <td>gender</td>\n",
       "      <td>native_country</td>\n",
       "      <td>We do not reject H0. There is no dependency be...</td>\n",
       "    </tr>\n",
       "  </tbody>\n",
       "</table>\n",
       "</div>"
      ],
      "text/plain": [
       "              var1            var2  \\\n",
       "0        workclass       education   \n",
       "1        workclass  marital_status   \n",
       "2        workclass      occupation   \n",
       "3        workclass    relationship   \n",
       "4        workclass            race   \n",
       "5        workclass          gender   \n",
       "6        workclass  native_country   \n",
       "7        education  marital_status   \n",
       "8        education      occupation   \n",
       "9        education    relationship   \n",
       "10       education            race   \n",
       "11       education          gender   \n",
       "12       education  native_country   \n",
       "13  marital_status      occupation   \n",
       "14  marital_status    relationship   \n",
       "15  marital_status            race   \n",
       "16  marital_status          gender   \n",
       "17  marital_status  native_country   \n",
       "18      occupation    relationship   \n",
       "19      occupation            race   \n",
       "20      occupation          gender   \n",
       "21      occupation  native_country   \n",
       "22    relationship            race   \n",
       "23    relationship          gender   \n",
       "24    relationship  native_country   \n",
       "25            race          gender   \n",
       "26            race  native_country   \n",
       "27          gender  native_country   \n",
       "\n",
       "                                               result  \n",
       "0   We reject H0. There may be dependency between ...  \n",
       "1   We reject H0. There may be dependency between ...  \n",
       "2   We reject H0. There may be dependency between ...  \n",
       "3   We reject H0. There may be dependency between ...  \n",
       "4   We reject H0. There may be dependency between ...  \n",
       "5   We reject H0. There may be dependency between ...  \n",
       "6   We reject H0. There may be dependency between ...  \n",
       "7   We reject H0. There may be dependency between ...  \n",
       "8   We reject H0. There may be dependency between ...  \n",
       "9   We reject H0. There may be dependency between ...  \n",
       "10  We reject H0. There may be dependency between ...  \n",
       "11  We reject H0. There may be dependency between ...  \n",
       "12  We reject H0. There may be dependency between ...  \n",
       "13  We reject H0. There may be dependency between ...  \n",
       "14  We reject H0. There may be dependency between ...  \n",
       "15  We reject H0. There may be dependency between ...  \n",
       "16  We reject H0. There may be dependency between ...  \n",
       "17  We reject H0. There may be dependency between ...  \n",
       "18  We reject H0. There may be dependency between ...  \n",
       "19  We reject H0. There may be dependency between ...  \n",
       "20  We reject H0. There may be dependency between ...  \n",
       "21  We reject H0. There may be dependency between ...  \n",
       "22  We reject H0. There may be dependency between ...  \n",
       "23  We reject H0. There may be dependency between ...  \n",
       "24  We reject H0. There may be dependency between ...  \n",
       "25  We reject H0. There may be dependency between ...  \n",
       "26  We reject H0. There may be dependency between ...  \n",
       "27  We do not reject H0. There is no dependency be...  "
      ]
     },
     "execution_count": 24,
     "metadata": {},
     "output_type": "execute_result"
    }
   ],
   "source": [
    "print('Regressor variable  VS regressor variable')\n",
    "# H0: there is no relation between the variables.\n",
    "var1 = []\n",
    "var2 = []\n",
    "result = []\n",
    "names = []\n",
    "for col in cat.columns:\n",
    "    for col2 in cat.columns:\n",
    "        if col != 'greater_than_50k' and col2 != 'greater_than_50k' and col2 != col:\n",
    "            tab = pd.crosstab(df[col],df[col2])\n",
    "            stat, p, dof, expected = stats.chi2_contingency(tab)\n",
    "            alpha = 0.05\n",
    "            \n",
    "            if col2+col not in names:\n",
    "                var1.append(col)\n",
    "                var2.append(col2)\n",
    "                names.append(col+col2)\n",
    "\n",
    "                if p <= alpha:\n",
    "                    result.append('We reject H0. There may be dependency between variables.') \n",
    "                else: \n",
    "                    result.append('We do not reject H0. There is no dependency between the variables.') \n",
    "d_corr = {'var1': var1, 'var2': var2, 'result': result}\n",
    "pd.DataFrame(d_corr)"
   ]
  },
  {
   "cell_type": "markdown",
   "metadata": {},
   "source": [
    "All variables are associated except gender and native_country.\n",
    "\n",
    "It is not a good sign for our future model."
   ]
  },
  {
   "cell_type": "markdown",
   "metadata": {},
   "source": [
    "# <font color='#464646'>Logistic regression</font>\n",
    "<font color='#7e7e7e'>We have found no evidence that the samples do not belong to the same distribution.</font>"
   ]
  },
  {
   "cell_type": "code",
   "execution_count": 57,
   "metadata": {},
   "outputs": [],
   "source": [
    "X_train, X_test, y_train, y_test = df_train.drop(columns=['greater_than_50k']), df_test.drop(columns=['greater_than_50k']) ,df_train['greater_than_50k'], df_test['greater_than_50k']\n",
    "\n",
    "train_data = X_train.copy()\n",
    "train_data['greater_than_50k'] = y_train\n",
    "\n",
    "train_data = train_data.reset_index(drop=True)\n",
    "X_test = X_test.reset_index(drop=True)\n",
    "y_test = y_test.reset_index(drop=True)"
   ]
  },
  {
   "cell_type": "code",
   "execution_count": 26,
   "metadata": {},
   "outputs": [],
   "source": [
    "# finding best R2 and formula\n",
    "d_combs = find_r(train_data)"
   ]
  },
  {
   "cell_type": "code",
   "execution_count": 58,
   "metadata": {},
   "outputs": [],
   "source": [
    "results = pd.DataFrame(d_combs, columns=['form','r2'])\n",
    "results['number_vars'] = list(map(lambda x: count_vars(x),results['form']))"
   ]
  },
  {
   "cell_type": "code",
   "execution_count": 59,
   "metadata": {},
   "outputs": [
    {
     "name": "stdout",
     "output_type": "stream",
     "text": [
      "For 3 variables we have a R2 of 0.3412. Form: greater_than_50k ~ C(age) + C(education) + C(relationship)\n",
      "\n",
      "For 4 variables we have a R2 of 0.3459. Form: greater_than_50k ~ C(age) + C(education) + C(relationship) + C(native_country)\n",
      "\n",
      "For 5 variables we have a R2 of 0.3482. Form: greater_than_50k ~ C(age) + C(education) + C(marital_status) + C(relationship) + C(gender)\n",
      "\n",
      "For 6 variables we have a R2 of 0.3637. Form: greater_than_50k ~ C(age) + C(education) + C(marital_status) + C(race) + C(hours_per_week) + C(native_country)\n",
      "\n",
      "For 7 variables we have a R2 of 0.3702. Form: greater_than_50k ~ C(age) + C(education) + C(relationship) + C(race) + C(gender) + C(hours_per_week) + C(native_country)\n",
      "\n",
      "For 8 variables we have a R2 of 0.3702. Form: greater_than_50k ~ C(age) + C(education_num) + C(relationship) + C(race) + C(gender) + C(hours_per_week) + C(native_country)\n",
      "\n"
     ]
    }
   ],
   "source": [
    "for n in results['number_vars'].unique():\n",
    "    df_filter = results[results['number_vars'] == n]\n",
    "    max_r2 = df_filter['r2'].max()\n",
    "    form = df_filter[df_filter['r2'] == max_r2]['form'].values[0]\n",
    "    if max_r2 >= np.median(results['r2']):\n",
    "        print('For %d variables we have a R2 of %.4f. Form: %s' % (n,max_r2,form))\n",
    "        print('')"
   ]
  },
  {
   "cell_type": "markdown",
   "metadata": {},
   "source": [
    "**The combination of variables created does not give us good results.**\n",
    "**As the regressor variables are associated with each other, we prefer to choose a model that has a similar r2 and fewer variables.**\n",
    "\n",
    "Our option may be between choosing a **3 to 4 regressor variables model.**\n",
    "\n",
    "For 3 variables (education, occupation, relationship) we have a r2 of 0.3096.\n",
    "\n",
    "For 4 variables (education, occupation, relationship, hours_per_week) we have a r2 of 0.3195. "
   ]
  },
  {
   "cell_type": "code",
   "execution_count": 60,
   "metadata": {},
   "outputs": [
    {
     "name": "stdout",
     "output_type": "stream",
     "text": [
      "Warning: Maximum number of iterations has been exceeded.\n",
      "         Current function value: 0.370910\n",
      "         Iterations: 35\n"
     ]
    }
   ],
   "source": [
    "form = 'greater_than_50k ~ education + occupation + relationship + hours_per_week'\n",
    "model = smf.logit(formula= form , data = train_data).fit()\n",
    "#model.summary()"
   ]
  },
  {
   "cell_type": "code",
   "execution_count": 62,
   "metadata": {},
   "outputs": [],
   "source": [
    "prob_y_pred = model.predict(X_test)"
   ]
  },
  {
   "cell_type": "code",
   "execution_count": 63,
   "metadata": {},
   "outputs": [],
   "source": [
    "y_pred = (prob_y_pred.copy()>0.5)*1"
   ]
  },
  {
   "cell_type": "markdown",
   "metadata": {},
   "source": [
    "### <font color='#7e7e7e'>Metrics for 4 regressor variables</font>"
   ]
  },
  {
   "cell_type": "code",
   "execution_count": 66,
   "metadata": {},
   "outputs": [
    {
     "name": "stdout",
     "output_type": "stream",
     "text": [
      "Warning: Maximum number of iterations has been exceeded.\n",
      "         Current function value: 0.370910\n",
      "         Iterations: 35\n"
     ]
    },
    {
     "data": {
      "image/png": "[encoded data removed]",
      "text/plain": [
       "<Figure size 1080x360 with 3 Axes>"
      ]
     },
     "metadata": {
      "needs_background": "light"
     },
     "output_type": "display_data"
    }
   ],
   "source": [
    "form = 'greater_than_50k ~ education + occupation + relationship + hours_per_week'\n",
    "model = smf.logit(formula= form , data = train_data).fit(disp=False)\n",
    "prob_y_pred = model.predict(X_test)\n",
    "y_pred = (prob_y_pred.copy()>0.5)*1\n",
    "plot_confusion_metrics(form,y_test, y_pred)"
   ]
  },
  {
   "cell_type": "markdown",
   "metadata": {},
   "source": [
    "* The percentage of positive predictions that were correct is 83.1%.\n",
    "\n",
    "* The percentage of positive cases detected is 67.1%.\n",
    "\n",
    "* The proportion of positive cases that were correctly identified by the algorithm is 53.7%.\n",
    "\n",
    "* The most general quality percentage of the model (F1 score) is 59.7%."
   ]
  },
  {
   "cell_type": "markdown",
   "metadata": {},
   "source": [
    "* Es correcto que 8620 ganan <50k.\n",
    "\n",
    "* Error Tipo1: Realmente 748 ganan <50k pero me predicen que ganan más.\n",
    "\n",
    "* Error Tipo2: Realmente 1315 ganan >50k pero me predicen que ganan menos.\n",
    "\n",
    "* Es correcto que 1528 ganan >50k."
   ]
  },
  {
   "cell_type": "markdown",
   "metadata": {},
   "source": [
    "### <font color='#7e7e7e'>Metrics for 3 regressor variables</font>"
   ]
  },
  {
   "cell_type": "code",
   "execution_count": 68,
   "metadata": {},
   "outputs": [
    {
     "name": "stdout",
     "output_type": "stream",
     "text": [
      "Warning: Maximum number of iterations has been exceeded.\n",
      "         Current function value: 0.376129\n",
      "         Iterations: 35\n"
     ]
    },
    {
     "data": {
      "image/png": "[encoded data removed]",
      "text/plain": [
       "<Figure size 1080x360 with 3 Axes>"
      ]
     },
     "metadata": {
      "needs_background": "light"
     },
     "output_type": "display_data"
    }
   ],
   "source": [
    "form = 'greater_than_50k ~ education + occupation + relationship'\n",
    "model = smf.logit(formula= form , data = train_data).fit(disp=False)\n",
    "prob_y_pred = model.predict(X_test)\n",
    "y_pred = (prob_y_pred.copy()>0.5)*1\n",
    "plot_confusion_metrics(form, y_test, y_pred)"
   ]
  },
  {
   "cell_type": "markdown",
   "metadata": {},
   "source": [
    "* El porcentaje de predicciones positivas que fueron correctas es de un 83%.\n",
    "\n",
    "* El porcentaje de casos positivos detectados es de un 67.3%.\n",
    "\n",
    "* La proporción de casos positivos que fueron correctamente identificados por el algoritmo es de un 52.3%.\n",
    "\n",
    "* El porcentaje de calidad más general del modelo (F1 score) es del 58.9%."
   ]
  },
  {
   "cell_type": "markdown",
   "metadata": {},
   "source": [
    "* Es correcto que 8645 ganan <50k.\n",
    "\n",
    "* Error Tipo1: Realmente 723 ganan <50k pero me predicen que ganan más.\n",
    "\n",
    "* Error Tipo2: Realmente 1356 ganan >50k pero me predicen que ganan menos.\n",
    "\n",
    "* Es correcto que 1487 ganan >50k."
   ]
  },
  {
   "cell_type": "markdown",
   "metadata": {},
   "source": [
    "### <font color='#7e7e7e'>Metrics for 5 regressor variables</font>"
   ]
  },
  {
   "cell_type": "code",
   "execution_count": 69,
   "metadata": {},
   "outputs": [
    {
     "name": "stdout",
     "output_type": "stream",
     "text": [
      "Warning: Maximum number of iterations has been exceeded.\n",
      "         Current function value: 0.364190\n",
      "         Iterations: 35\n"
     ]
    },
    {
     "data": {
      "image/png": "[encoded data removed]",
      "text/plain": [
       "<Figure size 1080x360 with 3 Axes>"
      ]
     },
     "metadata": {
      "needs_background": "light"
     },
     "output_type": "display_data"
    }
   ],
   "source": [
    "form = 'greater_than_50k ~ age + education + occupation + relationship + hours_per_week'\n",
    "model = smf.logit(formula= form , data = train_data).fit(disp=False)\n",
    "prob_y_pred = model.predict(X_test)\n",
    "y_pred = (prob_y_pred.copy()>0.5)*1\n",
    "plot_confusion_metrics(form,y_test, y_pred)"
   ]
  },
  {
   "cell_type": "markdown",
   "metadata": {},
   "source": [
    "* The percentage of positive predictions that were correct is 83.1%.\n",
    "\n",
    "* The percentage of positive cases detected is 67.1%.\n",
    "\n",
    "* The proportion of positive cases that were correctly identified by the algorithm is 53.7%.\n",
    "\n",
    "* The most general quality percentage of the model (F1 score) is 59.7%."
   ]
  },
  {
   "cell_type": "markdown",
   "metadata": {},
   "source": [
    "* It is correct that 8656 win <50k.\n",
    "\n",
    "* Type1 Error: Really 712 earn <50k but I predict they earn more.\n",
    "\n",
    "* Type2 Error: Really 1,332 earn> 50k but I predict they earn less.\n",
    "\n",
    "* It is correct that 1511 win> 50k."
   ]
  },
  {
   "cell_type": "markdown",
   "metadata": {},
   "source": [
    "**Depending on the question we ask ourselves, we will be more interested in choosing one model or another of the ones we have just analyzed.**\n",
    "\n",
    "**In general terms, the 4-variable model (education, occupation, relationship and hours_per_week) may be the most suitable to predict whether the individual earns more or less than 50k.**"
   ]
  }
 ],
 "metadata": {
  "hide_input": false,
  "kernelspec": {
   "display_name": "Python 3",
   "language": "python",
   "name": "python3"
  },
  "language_info": {
   "codemirror_mode": {
    "name": "ipython",
    "version": 3
   },
   "file_extension": ".py",
   "mimetype": "text/x-python",
   "name": "python",
   "nbconvert_exporter": "python",
   "pygments_lexer": "ipython3",
   "version": "3.7.9"
  }
 },
 "nbformat": 4,
 "nbformat_minor": 4
}
